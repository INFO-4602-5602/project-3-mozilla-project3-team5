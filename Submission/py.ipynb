{
 "cells": [
  {
   "cell_type": "code",
   "execution_count": 6,
   "metadata": {},
   "outputs": [
    {
     "name": "stderr",
     "output_type": "stream",
     "text": [
      "C:\\Users\\Chenyan886\\Anaconda3\\lib\\site-packages\\IPython\\core\\interactiveshell.py:2698: DtypeWarning: Columns (24,25,26,27,28,29,30,31,32,33) have mixed types. Specify dtype option on import or set low_memory=False.\n",
      "  interactivity=interactivity, compiler=compiler, result=result)\n"
     ]
    }
   ],
   "source": [
    "import pandas as pd\n",
    "import numpy as np\n",
    "import sys\n",
    "\n",
    "\n",
    "df= pd.read_csv('se.csv', encoding = \"ISO-8859-1\")\n",
    "\n",
    "df1 = df[['WiFi Router:Check all the internet connected devices you currently own:','Laptop computer:Check all the internet connected devices you currently own:','Smart phone:Check all the internet connected devices you currently own:',\n",
    "         'Smart TV:Check all the internet connected devices you currently own:','Activity Tracker (ex: Fitbit or Apple Watch):Check all the internet connected devices you currently own:',\n",
    "        'Smarthome Hub (ex. Amazon Echo, Google Alexa):Check all the internet connected devices you currently own:','Car that connects to the internet:Check all the internet connected devices you currently own:',\n",
    "        'Smart Thermostat (ex: Nest):Check all the internet connected devices you currently own:','Smart Appliance (ex. Coffeemaker, Refrigerator, Oven, Fridge):Check all the internet connected devices you currently own:',\n",
    "       'Smart Door Locks (ex. Door locks for your home you can open via bluetooth):Check all the internet connected devices you currently own:','Smart Lighting (ex. Connected lighting switches, dimmers, or bulbs):Check all the internet connected devices you currently own:']]\n",
    "\n",
    "\n",
    "df2= df1.count()\n",
    "#print(df2)\n",
    "df2.to_csv(\"1.csv\")"
   ]
  },
  {
   "cell_type": "code",
   "execution_count": null,
   "metadata": {
    "collapsed": true
   },
   "outputs": [],
   "source": []
  }
 ],
 "metadata": {
  "kernelspec": {
   "display_name": "Python 3",
   "language": "python",
   "name": "python3"
  },
  "language_info": {
   "codemirror_mode": {
    "name": "ipython",
    "version": 3
   },
   "file_extension": ".py",
   "mimetype": "text/x-python",
   "name": "python",
   "nbconvert_exporter": "python",
   "pygments_lexer": "ipython3",
   "version": "3.6.3"
  }
 },
 "nbformat": 4,
 "nbformat_minor": 2
}
