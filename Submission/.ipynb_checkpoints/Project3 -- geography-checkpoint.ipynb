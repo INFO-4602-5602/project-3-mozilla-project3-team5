{
 "cells": [
  {
   "cell_type": "code",
   "execution_count": 4,
   "metadata": {},
   "outputs": [],
   "source": [
    "import pandas as pd"
   ]
  },
  {
   "cell_type": "code",
   "execution_count": 5,
   "metadata": {},
   "outputs": [
    {
     "name": "stderr",
     "output_type": "stream",
     "text": [
      "/Users/yifanli/anaconda3/lib/python3.6/site-packages/IPython/core/interactiveshell.py:2728: DtypeWarning: Columns (0,24,25,26,27,28,29,30,31,32,33) have mixed types. Specify dtype option on import or set low_memory=False.\n",
      "  interactivity=interactivity, compiler=compiler, result=result)\n"
     ]
    },
    {
     "data": {
      "text/html": [
       "<div>\n",
       "<style scoped>\n",
       "    .dataframe tbody tr th:only-of-type {\n",
       "        vertical-align: middle;\n",
       "    }\n",
       "\n",
       "    .dataframe tbody tr th {\n",
       "        vertical-align: top;\n",
       "    }\n",
       "\n",
       "    .dataframe thead th {\n",
       "        text-align: right;\n",
       "    }\n",
       "</style>\n",
       "<table border=\"1\" class=\"dataframe\">\n",
       "  <thead>\n",
       "    <tr style=\"text-align: right;\">\n",
       "      <th></th>\n",
       "      <th>Country</th>\n",
       "      <th>Price</th>\n",
       "      <th>Features</th>\n",
       "      <th>Safety</th>\n",
       "      <th>Security</th>\n",
       "      <th>Privacy</th>\n",
       "      <th>Reliability</th>\n",
       "      <th>User Reviews</th>\n",
       "      <th>Expert Recommendation</th>\n",
       "      <th>Friend or Family Recommendation</th>\n",
       "      <th>Convenience</th>\n",
       "    </tr>\n",
       "  </thead>\n",
       "  <tbody>\n",
       "    <tr>\n",
       "      <th>0</th>\n",
       "      <td>United States</td>\n",
       "      <td>4</td>\n",
       "      <td>1</td>\n",
       "      <td>8</td>\n",
       "      <td>10</td>\n",
       "      <td>9</td>\n",
       "      <td>6</td>\n",
       "      <td>3</td>\n",
       "      <td>7</td>\n",
       "      <td>2</td>\n",
       "      <td>5</td>\n",
       "    </tr>\n",
       "    <tr>\n",
       "      <th>1</th>\n",
       "      <td>United States</td>\n",
       "      <td>2</td>\n",
       "      <td>3</td>\n",
       "      <td>10</td>\n",
       "      <td>9</td>\n",
       "      <td>8</td>\n",
       "      <td>5</td>\n",
       "      <td>4</td>\n",
       "      <td>7</td>\n",
       "      <td>1</td>\n",
       "      <td>6</td>\n",
       "    </tr>\n",
       "    <tr>\n",
       "      <th>2</th>\n",
       "      <td>United States</td>\n",
       "      <td>2</td>\n",
       "      <td>1</td>\n",
       "      <td>8</td>\n",
       "      <td>9</td>\n",
       "      <td>10</td>\n",
       "      <td>4</td>\n",
       "      <td>5</td>\n",
       "      <td>3</td>\n",
       "      <td>6</td>\n",
       "      <td>7</td>\n",
       "    </tr>\n",
       "    <tr>\n",
       "      <th>3</th>\n",
       "      <td>United States</td>\n",
       "      <td>6</td>\n",
       "      <td>8</td>\n",
       "      <td>9</td>\n",
       "      <td>5</td>\n",
       "      <td>4</td>\n",
       "      <td>10</td>\n",
       "      <td>3</td>\n",
       "      <td>1</td>\n",
       "      <td>2</td>\n",
       "      <td>7</td>\n",
       "    </tr>\n",
       "    <tr>\n",
       "      <th>4</th>\n",
       "      <td>Canada</td>\n",
       "      <td>7</td>\n",
       "      <td>3</td>\n",
       "      <td>5</td>\n",
       "      <td>4</td>\n",
       "      <td>6</td>\n",
       "      <td>10</td>\n",
       "      <td>1</td>\n",
       "      <td>2</td>\n",
       "      <td>9</td>\n",
       "      <td>8</td>\n",
       "    </tr>\n",
       "  </tbody>\n",
       "</table>\n",
       "</div>"
      ],
      "text/plain": [
       "         Country Price Features Safety Security Privacy Reliability  \\\n",
       "0  United States     4        1      8       10       9           6   \n",
       "1  United States     2        3     10        9       8           5   \n",
       "2  United States     2        1      8        9      10           4   \n",
       "3  United States     6        8      9        5       4          10   \n",
       "4         Canada     7        3      5        4       6          10   \n",
       "\n",
       "  User Reviews Expert Recommendation Friend or Family Recommendation  \\\n",
       "0            3                     7                               2   \n",
       "1            4                     7                               1   \n",
       "2            5                     3                               6   \n",
       "3            3                     1                               2   \n",
       "4            1                     2                               9   \n",
       "\n",
       "  Convenience  \n",
       "0           5  \n",
       "1           6  \n",
       "2           7  \n",
       "3           7  \n",
       "4           8  "
      ]
     },
     "execution_count": 5,
     "metadata": {},
     "output_type": "execute_result"
    }
   ],
   "source": [
    "data = pd.read_csv('SurveyExport.csv',encoding = \"ISO-8859-1\")\n",
    "project3_raw = data[['Country','Price','Features','Safety','Security','Privacy','Reliability','User Reviews','Expert Recommendation','Friend or Family Recommendation','Convenience']]\n",
    "project3 = project3_raw.dropna()\n",
    "# print(len(project3_raw))\n",
    "project3.to_csv('project3_geo.csv')\n",
    "project3.head()\n",
    "\n"
   ]
  },
  {
   "cell_type": "code",
   "execution_count": null,
   "metadata": {},
   "outputs": [],
   "source": []
  },
  {
   "cell_type": "code",
   "execution_count": null,
   "metadata": {},
   "outputs": [],
   "source": []
  },
  {
   "cell_type": "code",
   "execution_count": 30,
   "metadata": {},
   "outputs": [],
   "source": []
  },
  {
   "cell_type": "code",
   "execution_count": 31,
   "metadata": {},
   "outputs": [],
   "source": []
  },
  {
   "cell_type": "code",
   "execution_count": null,
   "metadata": {},
   "outputs": [],
   "source": []
  },
  {
   "cell_type": "code",
   "execution_count": 33,
   "metadata": {},
   "outputs": [
    {
     "data": {
      "text/plain": [
       "France                              22662\n",
       "Italy                               20028\n",
       "Germany                             17029\n",
       "United States                       14225\n",
       "Brazil                               8240\n",
       "Mexico                               3827\n",
       "United Kingdom                       3717\n",
       "Spain                                3398\n",
       "Canada                               3137\n",
       "Switzerland                          2582\n",
       "India                                2334\n",
       "Australia                            1881\n",
       "Belgium                              1834\n",
       "Argentina                            1580\n",
       "Austria                              1519\n",
       "Colombia                             1262\n",
       "Chile                                 765\n",
       "Venezuela                             599\n",
       "Ecuador                               556\n",
       "Netherlands                           530\n",
       "Indonesia                             454\n",
       "New Zealand                           434\n",
       "Peru                                  414\n",
       "Algeria                               375\n",
       "South Africa                          317\n",
       "Morocco                               312\n",
       "Philippines                           283\n",
       "Ireland                               262\n",
       "Reunion                               259\n",
       "Costa Rica                            255\n",
       "                                    ...  \n",
       "Vanuatu                                 2\n",
       "Macau                                   2\n",
       "Gibraltar                               2\n",
       "Tonga                                   2\n",
       "Bhutan                                  2\n",
       "Saint Lucia                             2\n",
       "Palestinian Territory                   2\n",
       "Gambia                                  2\n",
       "South Sudan                             1\n",
       "Somalia                                 1\n",
       "Equatorial Guinea                       1\n",
       "Central African Republic                1\n",
       "Dominica                                1\n",
       "Tajikistan                              1\n",
       "Saint Martin                            1\n",
       "Uzbekistan                              1\n",
       "Micronesia, Federated States of         1\n",
       "Azerbaijan                              1\n",
       "Libya                                   1\n",
       "Holy See (Vatican City State)           1\n",
       "Suriname                                1\n",
       "Seychelles                              1\n",
       "Saint Vincent and the Grenadines        1\n",
       "Solomon Islands                         1\n",
       "Christmas Island                        1\n",
       "Aruba                                   1\n",
       "Marshall Islands                        1\n",
       "Northern Mariana Islands                1\n",
       "Kyrgyzstan                              1\n",
       "Saint Kitts and Nevis                   1\n",
       "Name: Country, Length: 207, dtype: int64"
      ]
     },
     "execution_count": 33,
     "metadata": {},
     "output_type": "execute_result"
    }
   ],
   "source": [
    "count = project3['Country'].value_counts()\n",
    "count\n",
    "# count.keys()"
   ]
  },
  {
   "cell_type": "code",
   "execution_count": 34,
   "metadata": {},
   "outputs": [
    {
     "data": {
      "text/plain": [
       "Country                            object\n",
       "Price                              object\n",
       "Features                           object\n",
       "Safety                             object\n",
       "Security                           object\n",
       "Privacy                            object\n",
       "Reliability                        object\n",
       "User Reviews                       object\n",
       "Expert Recommendation              object\n",
       "Friend or Family Recommendation    object\n",
       "Convenience                        object\n",
       "dtype: object"
      ]
     },
     "execution_count": 34,
     "metadata": {},
     "output_type": "execute_result"
    }
   ],
   "source": [
    "project3.dtypes  # check type of data frame"
   ]
  },
  {
   "cell_type": "code",
   "execution_count": 35,
   "metadata": {},
   "outputs": [
    {
     "name": "stderr",
     "output_type": "stream",
     "text": [
      "/Users/yifanli/anaconda3/lib/python3.6/site-packages/ipykernel_launcher.py:1: SettingWithCopyWarning: \n",
      "A value is trying to be set on a copy of a slice from a DataFrame.\n",
      "Try using .loc[row_indexer,col_indexer] = value instead\n",
      "\n",
      "See the caveats in the documentation: http://pandas.pydata.org/pandas-docs/stable/indexing.html#indexing-view-versus-copy\n",
      "  \"\"\"Entry point for launching an IPython kernel.\n",
      "/Users/yifanli/anaconda3/lib/python3.6/site-packages/ipykernel_launcher.py:2: SettingWithCopyWarning: \n",
      "A value is trying to be set on a copy of a slice from a DataFrame.\n",
      "Try using .loc[row_indexer,col_indexer] = value instead\n",
      "\n",
      "See the caveats in the documentation: http://pandas.pydata.org/pandas-docs/stable/indexing.html#indexing-view-versus-copy\n",
      "  \n",
      "/Users/yifanli/anaconda3/lib/python3.6/site-packages/ipykernel_launcher.py:3: SettingWithCopyWarning: \n",
      "A value is trying to be set on a copy of a slice from a DataFrame.\n",
      "Try using .loc[row_indexer,col_indexer] = value instead\n",
      "\n",
      "See the caveats in the documentation: http://pandas.pydata.org/pandas-docs/stable/indexing.html#indexing-view-versus-copy\n",
      "  This is separate from the ipykernel package so we can avoid doing imports until\n",
      "/Users/yifanli/anaconda3/lib/python3.6/site-packages/ipykernel_launcher.py:4: SettingWithCopyWarning: \n",
      "A value is trying to be set on a copy of a slice from a DataFrame.\n",
      "Try using .loc[row_indexer,col_indexer] = value instead\n",
      "\n",
      "See the caveats in the documentation: http://pandas.pydata.org/pandas-docs/stable/indexing.html#indexing-view-versus-copy\n",
      "  after removing the cwd from sys.path.\n",
      "/Users/yifanli/anaconda3/lib/python3.6/site-packages/ipykernel_launcher.py:5: SettingWithCopyWarning: \n",
      "A value is trying to be set on a copy of a slice from a DataFrame.\n",
      "Try using .loc[row_indexer,col_indexer] = value instead\n",
      "\n",
      "See the caveats in the documentation: http://pandas.pydata.org/pandas-docs/stable/indexing.html#indexing-view-versus-copy\n",
      "  \"\"\"\n",
      "/Users/yifanli/anaconda3/lib/python3.6/site-packages/ipykernel_launcher.py:6: SettingWithCopyWarning: \n",
      "A value is trying to be set on a copy of a slice from a DataFrame.\n",
      "Try using .loc[row_indexer,col_indexer] = value instead\n",
      "\n",
      "See the caveats in the documentation: http://pandas.pydata.org/pandas-docs/stable/indexing.html#indexing-view-versus-copy\n",
      "  \n",
      "/Users/yifanli/anaconda3/lib/python3.6/site-packages/ipykernel_launcher.py:7: SettingWithCopyWarning: \n",
      "A value is trying to be set on a copy of a slice from a DataFrame.\n",
      "Try using .loc[row_indexer,col_indexer] = value instead\n",
      "\n",
      "See the caveats in the documentation: http://pandas.pydata.org/pandas-docs/stable/indexing.html#indexing-view-versus-copy\n",
      "  import sys\n",
      "/Users/yifanli/anaconda3/lib/python3.6/site-packages/ipykernel_launcher.py:8: SettingWithCopyWarning: \n",
      "A value is trying to be set on a copy of a slice from a DataFrame.\n",
      "Try using .loc[row_indexer,col_indexer] = value instead\n",
      "\n",
      "See the caveats in the documentation: http://pandas.pydata.org/pandas-docs/stable/indexing.html#indexing-view-versus-copy\n",
      "  \n"
     ]
    },
    {
     "name": "stdout",
     "output_type": "stream",
     "text": [
      "<class 'pandas.core.frame.DataFrame'>\n",
      "Int64Index: 123458 entries, 0 to 192651\n",
      "Data columns (total 11 columns):\n",
      "Country                            123458 non-null object\n",
      "Price                              123458 non-null int64\n",
      "Features                           123458 non-null int64\n",
      "Safety                             123458 non-null int64\n",
      "Security                           123458 non-null int64\n",
      "Privacy                            123458 non-null int64\n",
      "Reliability                        123458 non-null int64\n",
      "User Reviews                       123458 non-null int64\n",
      "Expert Recommendation              123458 non-null int64\n",
      "Friend or Family Recommendation    123458 non-null int64\n",
      "Convenience                        123458 non-null int64\n",
      "dtypes: int64(10), object(1)\n",
      "memory usage: 11.3+ MB\n"
     ]
    },
    {
     "name": "stderr",
     "output_type": "stream",
     "text": [
      "/Users/yifanli/anaconda3/lib/python3.6/site-packages/ipykernel_launcher.py:9: SettingWithCopyWarning: \n",
      "A value is trying to be set on a copy of a slice from a DataFrame.\n",
      "Try using .loc[row_indexer,col_indexer] = value instead\n",
      "\n",
      "See the caveats in the documentation: http://pandas.pydata.org/pandas-docs/stable/indexing.html#indexing-view-versus-copy\n",
      "  if __name__ == '__main__':\n",
      "/Users/yifanli/anaconda3/lib/python3.6/site-packages/ipykernel_launcher.py:10: SettingWithCopyWarning: \n",
      "A value is trying to be set on a copy of a slice from a DataFrame.\n",
      "Try using .loc[row_indexer,col_indexer] = value instead\n",
      "\n",
      "See the caveats in the documentation: http://pandas.pydata.org/pandas-docs/stable/indexing.html#indexing-view-versus-copy\n",
      "  # Remove the CWD from sys.path while we load stuff.\n"
     ]
    }
   ],
   "source": [
    "project3['Price'] = project3['Price'].astype(int) # convert Price arrtibute from object to int\n",
    "project3['Features'] = project3['Features'].astype(int)\n",
    "project3['Safety'] = project3['Safety'].astype(int)\n",
    "project3['Security'] = project3['Security'].astype(int)\n",
    "project3['Privacy'] = project3['Privacy'].astype(int)\n",
    "project3['Reliability'] = project3['Reliability'].astype(int)\n",
    "project3['User Reviews'] = project3['User Reviews'].astype(int)\n",
    "project3['Expert Recommendation'] = project3['Expert Recommendation'].astype(int)\n",
    "project3['Friend or Family Recommendation'] = project3['Friend or Family Recommendation'].astype(int)\n",
    "project3['Convenience'] = project3['Convenience'].astype(int)\n",
    "project3.info()"
   ]
  },
  {
   "cell_type": "code",
   "execution_count": 36,
   "metadata": {},
   "outputs": [
    {
     "data": {
      "text/html": [
       "\n",
       "    <div class=\"bk-root\">\n",
       "        <a href=\"https://bokeh.pydata.org\" target=\"_blank\" class=\"bk-logo bk-logo-small bk-logo-notebook\"></a>\n",
       "        <span id=\"97109ef0-5642-4446-a147-548b08da5ae8\">Loading BokehJS ...</span>\n",
       "    </div>"
      ]
     },
     "metadata": {},
     "output_type": "display_data"
    },
    {
     "data": {
      "application/javascript": [
       "\n",
       "(function(root) {\n",
       "  function now() {\n",
       "    return new Date();\n",
       "  }\n",
       "\n",
       "  var force = true;\n",
       "\n",
       "  if (typeof (root._bokeh_onload_callbacks) === \"undefined\" || force === true) {\n",
       "    root._bokeh_onload_callbacks = [];\n",
       "    root._bokeh_is_loading = undefined;\n",
       "  }\n",
       "\n",
       "  var JS_MIME_TYPE = 'application/javascript';\n",
       "  var HTML_MIME_TYPE = 'text/html';\n",
       "  var EXEC_MIME_TYPE = 'application/vnd.bokehjs_exec.v0+json';\n",
       "  var CLASS_NAME = 'output_bokeh rendered_html';\n",
       "\n",
       "  /**\n",
       "   * Render data to the DOM node\n",
       "   */\n",
       "  function render(props, node) {\n",
       "    var script = document.createElement(\"script\");\n",
       "    node.appendChild(script);\n",
       "  }\n",
       "\n",
       "  /**\n",
       "   * Handle when an output is cleared or removed\n",
       "   */\n",
       "  function handleClearOutput(event, handle) {\n",
       "    var cell = handle.cell;\n",
       "\n",
       "    var id = cell.output_area._bokeh_element_id;\n",
       "    var server_id = cell.output_area._bokeh_server_id;\n",
       "    // Clean up Bokeh references\n",
       "    if (id !== undefined) {\n",
       "      Bokeh.index[id].model.document.clear();\n",
       "      delete Bokeh.index[id];\n",
       "    }\n",
       "\n",
       "    if (server_id !== undefined) {\n",
       "      // Clean up Bokeh references\n",
       "      var cmd = \"from bokeh.io.state import curstate; print(curstate().uuid_to_server['\" + server_id + \"'].get_sessions()[0].document.roots[0]._id)\";\n",
       "      cell.notebook.kernel.execute(cmd, {\n",
       "        iopub: {\n",
       "          output: function(msg) {\n",
       "            var element_id = msg.content.text.trim();\n",
       "            Bokeh.index[element_id].model.document.clear();\n",
       "            delete Bokeh.index[element_id];\n",
       "          }\n",
       "        }\n",
       "      });\n",
       "      // Destroy server and session\n",
       "      var cmd = \"import bokeh.io.notebook as ion; ion.destroy_server('\" + server_id + \"')\";\n",
       "      cell.notebook.kernel.execute(cmd);\n",
       "    }\n",
       "  }\n",
       "\n",
       "  /**\n",
       "   * Handle when a new output is added\n",
       "   */\n",
       "  function handleAddOutput(event, handle) {\n",
       "    var output_area = handle.output_area;\n",
       "    var output = handle.output;\n",
       "\n",
       "    // limit handleAddOutput to display_data with EXEC_MIME_TYPE content only\n",
       "    if ((output.output_type != \"display_data\") || (!output.data.hasOwnProperty(EXEC_MIME_TYPE))) {\n",
       "      return\n",
       "    }\n",
       "\n",
       "    var toinsert = output_area.element.find(\".\" + CLASS_NAME.split(' ')[0]);\n",
       "\n",
       "    if (output.metadata[EXEC_MIME_TYPE][\"id\"] !== undefined) {\n",
       "      toinsert[0].firstChild.textContent = output.data[JS_MIME_TYPE];\n",
       "      // store reference to embed id on output_area\n",
       "      output_area._bokeh_element_id = output.metadata[EXEC_MIME_TYPE][\"id\"];\n",
       "    }\n",
       "    if (output.metadata[EXEC_MIME_TYPE][\"server_id\"] !== undefined) {\n",
       "      var bk_div = document.createElement(\"div\");\n",
       "      bk_div.innerHTML = output.data[HTML_MIME_TYPE];\n",
       "      var script_attrs = bk_div.children[0].attributes;\n",
       "      for (var i = 0; i < script_attrs.length; i++) {\n",
       "        toinsert[0].firstChild.setAttribute(script_attrs[i].name, script_attrs[i].value);\n",
       "      }\n",
       "      // store reference to server id on output_area\n",
       "      output_area._bokeh_server_id = output.metadata[EXEC_MIME_TYPE][\"server_id\"];\n",
       "    }\n",
       "  }\n",
       "\n",
       "  function register_renderer(events, OutputArea) {\n",
       "\n",
       "    function append_mime(data, metadata, element) {\n",
       "      // create a DOM node to render to\n",
       "      var toinsert = this.create_output_subarea(\n",
       "        metadata,\n",
       "        CLASS_NAME,\n",
       "        EXEC_MIME_TYPE\n",
       "      );\n",
       "      this.keyboard_manager.register_events(toinsert);\n",
       "      // Render to node\n",
       "      var props = {data: data, metadata: metadata[EXEC_MIME_TYPE]};\n",
       "      render(props, toinsert[0]);\n",
       "      element.append(toinsert);\n",
       "      return toinsert\n",
       "    }\n",
       "\n",
       "    /* Handle when an output is cleared or removed */\n",
       "    events.on('clear_output.CodeCell', handleClearOutput);\n",
       "    events.on('delete.Cell', handleClearOutput);\n",
       "\n",
       "    /* Handle when a new output is added */\n",
       "    events.on('output_added.OutputArea', handleAddOutput);\n",
       "\n",
       "    /**\n",
       "     * Register the mime type and append_mime function with output_area\n",
       "     */\n",
       "    OutputArea.prototype.register_mime_type(EXEC_MIME_TYPE, append_mime, {\n",
       "      /* Is output safe? */\n",
       "      safe: true,\n",
       "      /* Index of renderer in `output_area.display_order` */\n",
       "      index: 0\n",
       "    });\n",
       "  }\n",
       "\n",
       "  // register the mime type if in Jupyter Notebook environment and previously unregistered\n",
       "  if (root.Jupyter !== undefined) {\n",
       "    var events = require('base/js/events');\n",
       "    var OutputArea = require('notebook/js/outputarea').OutputArea;\n",
       "\n",
       "    if (OutputArea.prototype.mime_types().indexOf(EXEC_MIME_TYPE) == -1) {\n",
       "      register_renderer(events, OutputArea);\n",
       "    }\n",
       "  }\n",
       "\n",
       "  \n",
       "  if (typeof (root._bokeh_timeout) === \"undefined\" || force === true) {\n",
       "    root._bokeh_timeout = Date.now() + 5000;\n",
       "    root._bokeh_failed_load = false;\n",
       "  }\n",
       "\n",
       "  var NB_LOAD_WARNING = {'data': {'text/html':\n",
       "     \"<div style='background-color: #fdd'>\\n\"+\n",
       "     \"<p>\\n\"+\n",
       "     \"BokehJS does not appear to have successfully loaded. If loading BokehJS from CDN, this \\n\"+\n",
       "     \"may be due to a slow or bad network connection. Possible fixes:\\n\"+\n",
       "     \"</p>\\n\"+\n",
       "     \"<ul>\\n\"+\n",
       "     \"<li>re-rerun `output_notebook()` to attempt to load from CDN again, or</li>\\n\"+\n",
       "     \"<li>use INLINE resources instead, as so:</li>\\n\"+\n",
       "     \"</ul>\\n\"+\n",
       "     \"<code>\\n\"+\n",
       "     \"from bokeh.resources import INLINE\\n\"+\n",
       "     \"output_notebook(resources=INLINE)\\n\"+\n",
       "     \"</code>\\n\"+\n",
       "     \"</div>\"}};\n",
       "\n",
       "  function display_loaded() {\n",
       "    var el = document.getElementById(\"97109ef0-5642-4446-a147-548b08da5ae8\");\n",
       "    if (el != null) {\n",
       "      el.textContent = \"BokehJS is loading...\";\n",
       "    }\n",
       "    if (root.Bokeh !== undefined) {\n",
       "      if (el != null) {\n",
       "        el.textContent = \"BokehJS \" + root.Bokeh.version + \" successfully loaded.\";\n",
       "      }\n",
       "    } else if (Date.now() < root._bokeh_timeout) {\n",
       "      setTimeout(display_loaded, 100)\n",
       "    }\n",
       "  }\n",
       "\n",
       "\n",
       "  function run_callbacks() {\n",
       "    try {\n",
       "      root._bokeh_onload_callbacks.forEach(function(callback) { callback() });\n",
       "    }\n",
       "    finally {\n",
       "      delete root._bokeh_onload_callbacks\n",
       "    }\n",
       "    console.info(\"Bokeh: all callbacks have finished\");\n",
       "  }\n",
       "\n",
       "  function load_libs(js_urls, callback) {\n",
       "    root._bokeh_onload_callbacks.push(callback);\n",
       "    if (root._bokeh_is_loading > 0) {\n",
       "      console.log(\"Bokeh: BokehJS is being loaded, scheduling callback at\", now());\n",
       "      return null;\n",
       "    }\n",
       "    if (js_urls == null || js_urls.length === 0) {\n",
       "      run_callbacks();\n",
       "      return null;\n",
       "    }\n",
       "    console.log(\"Bokeh: BokehJS not loaded, scheduling load and callback at\", now());\n",
       "    root._bokeh_is_loading = js_urls.length;\n",
       "    for (var i = 0; i < js_urls.length; i++) {\n",
       "      var url = js_urls[i];\n",
       "      var s = document.createElement('script');\n",
       "      s.src = url;\n",
       "      s.async = false;\n",
       "      s.onreadystatechange = s.onload = function() {\n",
       "        root._bokeh_is_loading--;\n",
       "        if (root._bokeh_is_loading === 0) {\n",
       "          console.log(\"Bokeh: all BokehJS libraries loaded\");\n",
       "          run_callbacks()\n",
       "        }\n",
       "      };\n",
       "      s.onerror = function() {\n",
       "        console.warn(\"failed to load library \" + url);\n",
       "      };\n",
       "      console.log(\"Bokeh: injecting script tag for BokehJS library: \", url);\n",
       "      document.getElementsByTagName(\"head\")[0].appendChild(s);\n",
       "    }\n",
       "  };var element = document.getElementById(\"97109ef0-5642-4446-a147-548b08da5ae8\");\n",
       "  if (element == null) {\n",
       "    console.log(\"Bokeh: ERROR: autoload.js configured with elementid '97109ef0-5642-4446-a147-548b08da5ae8' but no matching script tag was found. \")\n",
       "    return false;\n",
       "  }\n",
       "\n",
       "  var js_urls = [\"https://cdn.pydata.org/bokeh/release/bokeh-0.12.13.min.js\", \"https://cdn.pydata.org/bokeh/release/bokeh-widgets-0.12.13.min.js\", \"https://cdn.pydata.org/bokeh/release/bokeh-tables-0.12.13.min.js\", \"https://cdn.pydata.org/bokeh/release/bokeh-gl-0.12.13.min.js\"];\n",
       "\n",
       "  var inline_js = [\n",
       "    function(Bokeh) {\n",
       "      Bokeh.set_log_level(\"info\");\n",
       "    },\n",
       "    \n",
       "    function(Bokeh) {\n",
       "      \n",
       "    },\n",
       "    function(Bokeh) {\n",
       "      console.log(\"Bokeh: injecting CSS: https://cdn.pydata.org/bokeh/release/bokeh-0.12.13.min.css\");\n",
       "      Bokeh.embed.inject_css(\"https://cdn.pydata.org/bokeh/release/bokeh-0.12.13.min.css\");\n",
       "      console.log(\"Bokeh: injecting CSS: https://cdn.pydata.org/bokeh/release/bokeh-widgets-0.12.13.min.css\");\n",
       "      Bokeh.embed.inject_css(\"https://cdn.pydata.org/bokeh/release/bokeh-widgets-0.12.13.min.css\");\n",
       "      console.log(\"Bokeh: injecting CSS: https://cdn.pydata.org/bokeh/release/bokeh-tables-0.12.13.min.css\");\n",
       "      Bokeh.embed.inject_css(\"https://cdn.pydata.org/bokeh/release/bokeh-tables-0.12.13.min.css\");\n",
       "    }\n",
       "  ];\n",
       "\n",
       "  function run_inline_js() {\n",
       "    \n",
       "    if ((root.Bokeh !== undefined) || (force === true)) {\n",
       "      for (var i = 0; i < inline_js.length; i++) {\n",
       "        inline_js[i].call(root, root.Bokeh);\n",
       "      }if (force === true) {\n",
       "        display_loaded();\n",
       "      }} else if (Date.now() < root._bokeh_timeout) {\n",
       "      setTimeout(run_inline_js, 100);\n",
       "    } else if (!root._bokeh_failed_load) {\n",
       "      console.log(\"Bokeh: BokehJS failed to load within specified timeout.\");\n",
       "      root._bokeh_failed_load = true;\n",
       "    } else if (force !== true) {\n",
       "      var cell = $(document.getElementById(\"97109ef0-5642-4446-a147-548b08da5ae8\")).parents('.cell').data().cell;\n",
       "      cell.output_area.append_execute_result(NB_LOAD_WARNING)\n",
       "    }\n",
       "\n",
       "  }\n",
       "\n",
       "  if (root._bokeh_is_loading === 0) {\n",
       "    console.log(\"Bokeh: BokehJS loaded, going straight to plotting\");\n",
       "    run_inline_js();\n",
       "  } else {\n",
       "    load_libs(js_urls, function() {\n",
       "      console.log(\"Bokeh: BokehJS plotting callback run at\", now());\n",
       "      run_inline_js();\n",
       "    });\n",
       "  }\n",
       "}(window));"
      ],
      "application/vnd.bokehjs_load.v0+json": "\n(function(root) {\n  function now() {\n    return new Date();\n  }\n\n  var force = true;\n\n  if (typeof (root._bokeh_onload_callbacks) === \"undefined\" || force === true) {\n    root._bokeh_onload_callbacks = [];\n    root._bokeh_is_loading = undefined;\n  }\n\n  \n\n  \n  if (typeof (root._bokeh_timeout) === \"undefined\" || force === true) {\n    root._bokeh_timeout = Date.now() + 5000;\n    root._bokeh_failed_load = false;\n  }\n\n  var NB_LOAD_WARNING = {'data': {'text/html':\n     \"<div style='background-color: #fdd'>\\n\"+\n     \"<p>\\n\"+\n     \"BokehJS does not appear to have successfully loaded. If loading BokehJS from CDN, this \\n\"+\n     \"may be due to a slow or bad network connection. Possible fixes:\\n\"+\n     \"</p>\\n\"+\n     \"<ul>\\n\"+\n     \"<li>re-rerun `output_notebook()` to attempt to load from CDN again, or</li>\\n\"+\n     \"<li>use INLINE resources instead, as so:</li>\\n\"+\n     \"</ul>\\n\"+\n     \"<code>\\n\"+\n     \"from bokeh.resources import INLINE\\n\"+\n     \"output_notebook(resources=INLINE)\\n\"+\n     \"</code>\\n\"+\n     \"</div>\"}};\n\n  function display_loaded() {\n    var el = document.getElementById(\"97109ef0-5642-4446-a147-548b08da5ae8\");\n    if (el != null) {\n      el.textContent = \"BokehJS is loading...\";\n    }\n    if (root.Bokeh !== undefined) {\n      if (el != null) {\n        el.textContent = \"BokehJS \" + root.Bokeh.version + \" successfully loaded.\";\n      }\n    } else if (Date.now() < root._bokeh_timeout) {\n      setTimeout(display_loaded, 100)\n    }\n  }\n\n\n  function run_callbacks() {\n    try {\n      root._bokeh_onload_callbacks.forEach(function(callback) { callback() });\n    }\n    finally {\n      delete root._bokeh_onload_callbacks\n    }\n    console.info(\"Bokeh: all callbacks have finished\");\n  }\n\n  function load_libs(js_urls, callback) {\n    root._bokeh_onload_callbacks.push(callback);\n    if (root._bokeh_is_loading > 0) {\n      console.log(\"Bokeh: BokehJS is being loaded, scheduling callback at\", now());\n      return null;\n    }\n    if (js_urls == null || js_urls.length === 0) {\n      run_callbacks();\n      return null;\n    }\n    console.log(\"Bokeh: BokehJS not loaded, scheduling load and callback at\", now());\n    root._bokeh_is_loading = js_urls.length;\n    for (var i = 0; i < js_urls.length; i++) {\n      var url = js_urls[i];\n      var s = document.createElement('script');\n      s.src = url;\n      s.async = false;\n      s.onreadystatechange = s.onload = function() {\n        root._bokeh_is_loading--;\n        if (root._bokeh_is_loading === 0) {\n          console.log(\"Bokeh: all BokehJS libraries loaded\");\n          run_callbacks()\n        }\n      };\n      s.onerror = function() {\n        console.warn(\"failed to load library \" + url);\n      };\n      console.log(\"Bokeh: injecting script tag for BokehJS library: \", url);\n      document.getElementsByTagName(\"head\")[0].appendChild(s);\n    }\n  };var element = document.getElementById(\"97109ef0-5642-4446-a147-548b08da5ae8\");\n  if (element == null) {\n    console.log(\"Bokeh: ERROR: autoload.js configured with elementid '97109ef0-5642-4446-a147-548b08da5ae8' but no matching script tag was found. \")\n    return false;\n  }\n\n  var js_urls = [\"https://cdn.pydata.org/bokeh/release/bokeh-0.12.13.min.js\", \"https://cdn.pydata.org/bokeh/release/bokeh-widgets-0.12.13.min.js\", \"https://cdn.pydata.org/bokeh/release/bokeh-tables-0.12.13.min.js\", \"https://cdn.pydata.org/bokeh/release/bokeh-gl-0.12.13.min.js\"];\n\n  var inline_js = [\n    function(Bokeh) {\n      Bokeh.set_log_level(\"info\");\n    },\n    \n    function(Bokeh) {\n      \n    },\n    function(Bokeh) {\n      console.log(\"Bokeh: injecting CSS: https://cdn.pydata.org/bokeh/release/bokeh-0.12.13.min.css\");\n      Bokeh.embed.inject_css(\"https://cdn.pydata.org/bokeh/release/bokeh-0.12.13.min.css\");\n      console.log(\"Bokeh: injecting CSS: https://cdn.pydata.org/bokeh/release/bokeh-widgets-0.12.13.min.css\");\n      Bokeh.embed.inject_css(\"https://cdn.pydata.org/bokeh/release/bokeh-widgets-0.12.13.min.css\");\n      console.log(\"Bokeh: injecting CSS: https://cdn.pydata.org/bokeh/release/bokeh-tables-0.12.13.min.css\");\n      Bokeh.embed.inject_css(\"https://cdn.pydata.org/bokeh/release/bokeh-tables-0.12.13.min.css\");\n    }\n  ];\n\n  function run_inline_js() {\n    \n    if ((root.Bokeh !== undefined) || (force === true)) {\n      for (var i = 0; i < inline_js.length; i++) {\n        inline_js[i].call(root, root.Bokeh);\n      }if (force === true) {\n        display_loaded();\n      }} else if (Date.now() < root._bokeh_timeout) {\n      setTimeout(run_inline_js, 100);\n    } else if (!root._bokeh_failed_load) {\n      console.log(\"Bokeh: BokehJS failed to load within specified timeout.\");\n      root._bokeh_failed_load = true;\n    } else if (force !== true) {\n      var cell = $(document.getElementById(\"97109ef0-5642-4446-a147-548b08da5ae8\")).parents('.cell').data().cell;\n      cell.output_area.append_execute_result(NB_LOAD_WARNING)\n    }\n\n  }\n\n  if (root._bokeh_is_loading === 0) {\n    console.log(\"Bokeh: BokehJS loaded, going straight to plotting\");\n    run_inline_js();\n  } else {\n    load_libs(js_urls, function() {\n      console.log(\"Bokeh: BokehJS plotting callback run at\", now());\n      run_inline_js();\n    });\n  }\n}(window));"
     },
     "metadata": {},
     "output_type": "display_data"
    }
   ],
   "source": [
    "from bokeh.io import output_file,show,output_notebook,push_notebook\n",
    "from bokeh.plotting import figure\n",
    "from bokeh.models import ColumnDataSource,HoverTool,CategoricalColorMapper\n",
    "from bokeh.layouts import row,column,gridplot\n",
    "from bokeh.models.widgets import Tabs,Panel\n",
    "output_notebook()"
   ]
  },
  {
   "cell_type": "code",
   "execution_count": 37,
   "metadata": {},
   "outputs": [
    {
     "name": "stdout",
     "output_type": "stream",
     "text": [
      "Country\n",
      "Afghanistan    4.000000\n",
      "Albania        2.641026\n",
      "Algeria        4.541333\n",
      "Andorra        3.750000\n",
      "Angola         6.600000\n",
      "Name: Price, dtype: float64\n"
     ]
    }
   ],
   "source": [
    "price_mean = project3.groupby('Country').Price.mean()\n",
    "print(price_mean.head())\n",
    "\n"
   ]
  },
  {
   "cell_type": "code",
   "execution_count": 38,
   "metadata": {},
   "outputs": [],
   "source": [
    "# source = ColumnDataSource(price_mean)\n",
    "# plot = figure()\n",
    "# plot.circle( y = 'Country', source = source)\n",
    "# show(plot)"
   ]
  },
  {
   "cell_type": "code",
   "execution_count": 39,
   "metadata": {},
   "outputs": [
    {
     "data": {
      "text/plain": [
       "3.8568582027896126"
      ]
     },
     "execution_count": 39,
     "metadata": {},
     "output_type": "execute_result"
    }
   ],
   "source": [
    "project3.Price.mean() # get the mean of price "
   ]
  },
  {
   "cell_type": "code",
   "execution_count": 40,
   "metadata": {},
   "outputs": [
    {
     "data": {
      "text/plain": [
       "1     751\n",
       "2     340\n",
       "3     210\n",
       "7     183\n",
       "6     181\n",
       "4     176\n",
       "5     167\n",
       "10    136\n",
       "8     105\n",
       "9      85\n",
       "Name: Price, dtype: int64"
      ]
     },
     "execution_count": 40,
     "metadata": {},
     "output_type": "execute_result"
    }
   ],
   "source": [
    "India = project3[(project3.Country == 'India')]\n",
    "India_Price = India['Price'].astype(int)\n",
    "India_count = India_Price.value_counts()\n",
    "India_count\n"
   ]
  },
  {
   "cell_type": "code",
   "execution_count": 41,
   "metadata": {},
   "outputs": [
    {
     "data": {
      "text/plain": [
       "[1, 2, 3, 7, 6, 4, 5, 10, 8, 9]"
      ]
     },
     "execution_count": 41,
     "metadata": {},
     "output_type": "execute_result"
    }
   ],
   "source": [
    "list1 = list(India_count.keys().values)\n",
    "list1\n"
   ]
  },
  {
   "cell_type": "code",
   "execution_count": 42,
   "metadata": {},
   "outputs": [
    {
     "data": {
      "text/plain": [
       "[751, 340, 210, 183, 181, 176, 167, 136, 105, 85]"
      ]
     },
     "execution_count": 42,
     "metadata": {},
     "output_type": "execute_result"
    }
   ],
   "source": [
    "list2 = list(India_count.values)\n",
    "list2"
   ]
  },
  {
   "cell_type": "code",
   "execution_count": 43,
   "metadata": {},
   "outputs": [
    {
     "data": {
      "text/plain": [
       "{1: 751,\n",
       " 2: 340,\n",
       " 3: 210,\n",
       " 4: 176,\n",
       " 5: 167,\n",
       " 6: 181,\n",
       " 7: 183,\n",
       " 8: 105,\n",
       " 9: 85,\n",
       " 10: 136}"
      ]
     },
     "execution_count": 43,
     "metadata": {},
     "output_type": "execute_result"
    }
   ],
   "source": [
    "# convert list to dict\n",
    "India_dict = dict(zip(list1,list2))\n",
    "India_dict"
   ]
  },
  {
   "cell_type": "code",
   "execution_count": 56,
   "metadata": {},
   "outputs": [
    {
     "name": "stderr",
     "output_type": "stream",
     "text": [
      "/Users/yifanli/anaconda3/lib/python3.6/site-packages/bokeh/core/json_encoder.py:80: FutureWarning: Conversion of the second argument of issubdtype from `float` to `np.floating` is deprecated. In future, it will be treated as `np.float64 == np.dtype(float).type`.\n",
      "  elif np.issubdtype(type(obj), np.float):\n"
     ]
    },
    {
     "data": {
      "text/html": [
       "\n",
       "<div class=\"bk-root\">\n",
       "    <div class=\"bk-plotdiv\" id=\"33ed2d8e-c4ac-4441-a354-b852405005c3\"></div>\n",
       "</div>"
      ]
     },
     "metadata": {},
     "output_type": "display_data"
    },
    {
     "data": {
      "application/javascript": [
       "(function(root) {\n",
       "  function embed_document(root) {\n",
       "    \n",
       "  var docs_json = {\"fcfc48ec-4fd5-46e2-ac1a-12847038cac0\":{\"roots\":{\"references\":[{\"attributes\":{\"plot\":null,\"text\":\"Link Name count\"},\"id\":\"1b26251c-051d-4a03-96e0-95641a1cd1ed\",\"type\":\"Title\"},{\"attributes\":{\"overlay\":{\"id\":\"06ff3f0d-e518-4685-a836-6b90b5d9a792\",\"type\":\"BoxAnnotation\"}},\"id\":\"9eab4dc7-faf8-4d8a-8ddb-1c2b637d50d9\",\"type\":\"BoxZoomTool\"},{\"attributes\":{\"axis_label\":\"Price Level\",\"formatter\":{\"id\":\"2c379227-9d97-4061-ae48-236da614c795\",\"type\":\"BasicTickFormatter\"},\"plot\":{\"id\":\"af7e43e6-a3f1-429b-a7d0-1dac53b6ec75\",\"subtype\":\"Figure\",\"type\":\"Plot\"},\"ticker\":{\"id\":\"e36236d7-52bf-4df2-b71e-90339bb6d980\",\"type\":\"BasicTicker\"}},\"id\":\"a55968fa-4e6a-4dfc-874c-7890389a20c3\",\"type\":\"LinearAxis\"},{\"attributes\":{\"callback\":null,\"column_names\":[\"x\",\"y\"],\"data\":{\"x\":[1,2,3,4,5,6,7,8,9,10],\"y\":[150177,33813,5970,1345,543,396,212,165,32,1]}},\"id\":\"3ce3394a-b837-434b-9bc8-17ff892fa871\",\"type\":\"ColumnDataSource\"},{\"attributes\":{\"source\":{\"id\":\"97491b93-d57c-4b5a-9462-ac89086b19c0\",\"type\":\"ColumnDataSource\"}},\"id\":\"89ec7c35-b2a4-4e94-b989-3ae2844a816e\",\"type\":\"CDSView\"},{\"attributes\":{},\"id\":\"68388745-1160-4c1a-94a9-19355168b2f1\",\"type\":\"WheelZoomTool\"},{\"attributes\":{},\"id\":\"ee81ecd6-0d14-45d7-b5e9-f7c225343a82\",\"type\":\"BasicTickFormatter\"},{\"attributes\":{\"axis_label\":\"Quantity\",\"formatter\":{\"id\":\"6992b973-b36e-4547-8f6a-010a932ec08d\",\"type\":\"BasicTickFormatter\"},\"plot\":{\"id\":\"56702359-89e9-4daf-9bab-fb139696b995\",\"subtype\":\"Figure\",\"type\":\"Plot\"},\"ticker\":{\"id\":\"d9e2e0c6-ee7c-4d7d-8f72-9ab3e89ad19d\",\"type\":\"BasicTicker\"}},\"id\":\"90886792-98bc-4a4d-9ec3-6c53eb4921d2\",\"type\":\"LinearAxis\"},{\"attributes\":{},\"id\":\"b01593d5-57ad-4b86-94ac-d04a23926ab3\",\"type\":\"BasicTickFormatter\"},{\"attributes\":{\"axis_label\":\"Name Index\",\"formatter\":{\"id\":\"abf22065-795a-4d2d-b9cf-78d8d4fbce90\",\"type\":\"BasicTickFormatter\"},\"plot\":{\"id\":\"a1969ffb-bf60-41e0-ba42-ed68836f40ed\",\"subtype\":\"Figure\",\"type\":\"Plot\"},\"ticker\":{\"id\":\"13c2a4e8-9243-429f-83a1-2719c0ad5dc2\",\"type\":\"BasicTicker\"}},\"id\":\"b4a81212-b609-4b0b-baba-09c0873d994e\",\"type\":\"LinearAxis\"},{\"attributes\":{\"fill_color\":{\"value\":\"#1f77b4\"},\"line_color\":{\"value\":\"#1f77b4\"},\"size\":{\"units\":\"screen\",\"value\":7},\"x\":{\"field\":\"x\"},\"y\":{\"field\":\"y\"}},\"id\":\"966a3916-c313-4dc3-bbe1-a255eb08483a\",\"type\":\"Circle\"},{\"attributes\":{\"plot\":null,\"text\":\"India - Price\"},\"id\":\"e874c41a-8073-489c-bdff-b8f09699c579\",\"type\":\"Title\"},{\"attributes\":{},\"id\":\"fcdde98c-c6f3-4a8e-9a88-4e18a49343e8\",\"type\":\"LinearScale\"},{\"attributes\":{\"dimension\":1,\"plot\":{\"id\":\"a1969ffb-bf60-41e0-ba42-ed68836f40ed\",\"subtype\":\"Figure\",\"type\":\"Plot\"},\"ticker\":{\"id\":\"ec765dcc-c374-4e26-9753-f505220b5672\",\"type\":\"BasicTicker\"}},\"id\":\"6540ae4e-33ea-468a-8151-93d113770260\",\"type\":\"Grid\"},{\"attributes\":{\"plot\":{\"id\":\"af7e43e6-a3f1-429b-a7d0-1dac53b6ec75\",\"subtype\":\"Figure\",\"type\":\"Plot\"},\"ticker\":{\"id\":\"e36236d7-52bf-4df2-b71e-90339bb6d980\",\"type\":\"BasicTicker\"}},\"id\":\"357c64ea-da39-487d-acdd-11f7f52a3ee1\",\"type\":\"Grid\"},{\"attributes\":{\"data_source\":{\"id\":\"505f70cf-aa6e-41ff-ae2b-fcf4f3df0b66\",\"type\":\"ColumnDataSource\"},\"glyph\":{\"id\":\"e285044e-7d31-4857-94e9-f29083def7b1\",\"type\":\"VBar\"},\"hover_glyph\":null,\"muted_glyph\":null,\"nonselection_glyph\":{\"id\":\"6c6f2d41-0635-4901-9f80-740e09f6bc47\",\"type\":\"VBar\"},\"selection_glyph\":null,\"view\":{\"id\":\"5a526947-7926-48eb-8788-8e4551b03706\",\"type\":\"CDSView\"}},\"id\":\"d5f9d7ec-17f8-4366-abb2-69f791fc1741\",\"type\":\"GlyphRenderer\"},{\"attributes\":{\"callback\":null,\"column_names\":[\"x\",\"y\"],\"data\":{\"x\":[1,2,3,7,6,4,5,10,8,9],\"y\":[751,340,210,183,181,176,167,136,105,85]}},\"id\":\"97491b93-d57c-4b5a-9462-ac89086b19c0\",\"type\":\"ColumnDataSource\"},{\"attributes\":{\"line_color\":\"#1f77b4\",\"line_width\":2,\"x\":{\"field\":\"x\"},\"y\":{\"field\":\"y\"}},\"id\":\"5454430b-7a8b-4c30-afe7-f9715a72bd44\",\"type\":\"Line\"},{\"attributes\":{},\"id\":\"d31eba43-2075-4ca3-b692-5e26d5e70091\",\"type\":\"LinearScale\"},{\"attributes\":{\"line_alpha\":0.1,\"line_color\":\"#1f77b4\",\"line_width\":2,\"x\":{\"field\":\"x\"},\"y\":{\"field\":\"y\"}},\"id\":\"53796b19-e044-461e-a25f-4b68d004aaa7\",\"type\":\"Line\"},{\"attributes\":{\"fill_alpha\":{\"value\":0.1},\"fill_color\":{\"value\":\"#1f77b4\"},\"line_alpha\":{\"value\":0.1},\"line_color\":{\"value\":\"#1f77b4\"},\"top\":{\"field\":\"top\"},\"width\":{\"value\":0.5},\"x\":{\"field\":\"x\"}},\"id\":\"6c6f2d41-0635-4901-9f80-740e09f6bc47\",\"type\":\"VBar\"},{\"attributes\":{},\"id\":\"d9e2e0c6-ee7c-4d7d-8f72-9ab3e89ad19d\",\"type\":\"BasicTicker\"},{\"attributes\":{\"below\":[{\"id\":\"b4a81212-b609-4b0b-baba-09c0873d994e\",\"type\":\"LinearAxis\"}],\"left\":[{\"id\":\"de4fc7d3-02fe-4326-956e-3e1c3cb537c3\",\"type\":\"LinearAxis\"}],\"plot_height\":400,\"plot_width\":400,\"renderers\":[{\"id\":\"b4a81212-b609-4b0b-baba-09c0873d994e\",\"type\":\"LinearAxis\"},{\"id\":\"d56d7fba-e938-4aee-92ca-c23ec6a67b05\",\"type\":\"Grid\"},{\"id\":\"de4fc7d3-02fe-4326-956e-3e1c3cb537c3\",\"type\":\"LinearAxis\"},{\"id\":\"6540ae4e-33ea-468a-8151-93d113770260\",\"type\":\"Grid\"},{\"id\":\"55e9bc3b-a339-4113-a2ca-56682a22883e\",\"type\":\"GlyphRenderer\"},{\"id\":\"8baff703-a2ff-4a93-9145-f76b49f16ffd\",\"type\":\"GlyphRenderer\"}],\"title\":{\"id\":\"1b26251c-051d-4a03-96e0-95641a1cd1ed\",\"type\":\"Title\"},\"toolbar\":{\"id\":\"0808105f-164f-405e-890f-cf9c451bc3a7\",\"type\":\"Toolbar\"},\"x_range\":{\"id\":\"43eec731-66ba-4286-9f46-3a7ef7983be0\",\"type\":\"DataRange1d\"},\"x_scale\":{\"id\":\"7215e4e0-bc07-42e0-9bee-3255d8c12e08\",\"type\":\"LinearScale\"},\"y_range\":{\"id\":\"078a8a22-8286-41ae-adbe-725618b997aa\",\"type\":\"DataRange1d\"},\"y_scale\":{\"id\":\"4e1fc5aa-ce05-41ed-a7af-da83afda39da\",\"type\":\"LinearScale\"}},\"id\":\"a1969ffb-bf60-41e0-ba42-ed68836f40ed\",\"subtype\":\"Figure\",\"type\":\"Plot\"},{\"attributes\":{\"below\":[{\"id\":\"a55968fa-4e6a-4dfc-874c-7890389a20c3\",\"type\":\"LinearAxis\"}],\"left\":[{\"id\":\"fd391a43-f230-47c6-bb62-5cdecd2c0cb3\",\"type\":\"LinearAxis\"}],\"plot_height\":400,\"plot_width\":400,\"renderers\":[{\"id\":\"a55968fa-4e6a-4dfc-874c-7890389a20c3\",\"type\":\"LinearAxis\"},{\"id\":\"357c64ea-da39-487d-acdd-11f7f52a3ee1\",\"type\":\"Grid\"},{\"id\":\"fd391a43-f230-47c6-bb62-5cdecd2c0cb3\",\"type\":\"LinearAxis\"},{\"id\":\"1db4dd2d-7955-4c71-9aae-441388ad5282\",\"type\":\"Grid\"},{\"id\":\"9d13f4e3-9408-4436-9cf6-c4c014a4a151\",\"type\":\"GlyphRenderer\"}],\"title\":{\"id\":\"631fcd6f-a608-4594-9719-0dd4fb88e1b4\",\"type\":\"Title\"},\"toolbar\":{\"id\":\"0fdf8ead-ae6a-4c74-9600-e2da02de3320\",\"type\":\"Toolbar\"},\"x_range\":{\"id\":\"97641284-5c83-4fb7-999a-f84444144a04\",\"type\":\"DataRange1d\"},\"x_scale\":{\"id\":\"d31eba43-2075-4ca3-b692-5e26d5e70091\",\"type\":\"LinearScale\"},\"y_range\":{\"id\":\"ac18c5e5-2c1d-4678-ab0f-2b87f1fa8c20\",\"type\":\"DataRange1d\"},\"y_scale\":{\"id\":\"1f864f29-a507-4900-a69f-e049c6aa9398\",\"type\":\"LinearScale\"}},\"id\":\"af7e43e6-a3f1-429b-a7d0-1dac53b6ec75\",\"subtype\":\"Figure\",\"type\":\"Plot\"},{\"attributes\":{\"callback\":null},\"id\":\"078a8a22-8286-41ae-adbe-725618b997aa\",\"type\":\"DataRange1d\"},{\"attributes\":{\"data_source\":{\"id\":\"f0b1f0dd-e8b5-4206-acd4-2e861d0d678d\",\"type\":\"ColumnDataSource\"},\"glyph\":{\"id\":\"ec7d1b1a-b49a-4b7d-a5bf-16aa566961c1\",\"type\":\"Circle\"},\"hover_glyph\":null,\"muted_glyph\":null,\"nonselection_glyph\":{\"id\":\"a5bb7f75-1546-4918-acdf-529b9afaf79f\",\"type\":\"Circle\"},\"selection_glyph\":null,\"view\":{\"id\":\"b99686ef-9663-4ae0-b1c4-bd498ff05a8d\",\"type\":\"CDSView\"}},\"id\":\"8baff703-a2ff-4a93-9145-f76b49f16ffd\",\"type\":\"GlyphRenderer\"},{\"attributes\":{},\"id\":\"06487dac-a2fc-4149-87bb-75e74fcc99b4\",\"type\":\"BasicTicker\"},{\"attributes\":{},\"id\":\"1f864f29-a507-4900-a69f-e049c6aa9398\",\"type\":\"LinearScale\"},{\"attributes\":{},\"id\":\"eb399775-9b32-42c2-a9c0-433690713457\",\"type\":\"HelpTool\"},{\"attributes\":{\"plot\":{\"id\":\"56702359-89e9-4daf-9bab-fb139696b995\",\"subtype\":\"Figure\",\"type\":\"Plot\"},\"ticker\":{\"id\":\"06487dac-a2fc-4149-87bb-75e74fcc99b4\",\"type\":\"BasicTicker\"}},\"id\":\"3f451a8d-1d09-4deb-bb5a-1a35a5ada3ab\",\"type\":\"Grid\"},{\"attributes\":{},\"id\":\"2c379227-9d97-4061-ae48-236da614c795\",\"type\":\"BasicTickFormatter\"},{\"attributes\":{\"source\":{\"id\":\"3ce3394a-b837-434b-9bc8-17ff892fa871\",\"type\":\"ColumnDataSource\"}},\"id\":\"9f149900-4c33-4855-bc9f-5c381a51493a\",\"type\":\"CDSView\"},{\"attributes\":{\"data_source\":{\"id\":\"97491b93-d57c-4b5a-9462-ac89086b19c0\",\"type\":\"ColumnDataSource\"},\"glyph\":{\"id\":\"966a3916-c313-4dc3-bbe1-a255eb08483a\",\"type\":\"Circle\"},\"hover_glyph\":null,\"muted_glyph\":null,\"nonselection_glyph\":{\"id\":\"f38c4a97-1cf6-4cbe-8cb3-0a67d035bda3\",\"type\":\"Circle\"},\"selection_glyph\":null,\"view\":{\"id\":\"89ec7c35-b2a4-4e94-b989-3ae2844a816e\",\"type\":\"CDSView\"}},\"id\":\"9d13f4e3-9408-4436-9cf6-c4c014a4a151\",\"type\":\"GlyphRenderer\"},{\"attributes\":{},\"id\":\"ee34f8b4-b8bd-4633-b103-3aaaf72eb473\",\"type\":\"ResetTool\"},{\"attributes\":{},\"id\":\"7215e4e0-bc07-42e0-9bee-3255d8c12e08\",\"type\":\"LinearScale\"},{\"attributes\":{},\"id\":\"e36236d7-52bf-4df2-b71e-90339bb6d980\",\"type\":\"BasicTicker\"},{\"attributes\":{\"callback\":null,\"column_names\":[\"x\",\"top\"],\"data\":{\"top\":[751,340,210,183,181,176,167,136,105,85],\"x\":[1,2,3,7,6,4,5,10,8,9]}},\"id\":\"505f70cf-aa6e-41ff-ae2b-fcf4f3df0b66\",\"type\":\"ColumnDataSource\"},{\"attributes\":{\"bottom_units\":\"screen\",\"fill_alpha\":{\"value\":0.5},\"fill_color\":{\"value\":\"lightgrey\"},\"left_units\":\"screen\",\"level\":\"overlay\",\"line_alpha\":{\"value\":1.0},\"line_color\":{\"value\":\"black\"},\"line_dash\":[4,4],\"line_width\":{\"value\":2},\"plot\":null,\"render_mode\":\"css\",\"right_units\":\"screen\",\"top_units\":\"screen\"},\"id\":\"06ff3f0d-e518-4685-a836-6b90b5d9a792\",\"type\":\"BoxAnnotation\"},{\"attributes\":{\"callback\":null},\"id\":\"362093bf-2165-4e71-b819-4c35992de5e5\",\"type\":\"DataRange1d\"},{\"attributes\":{\"fill_alpha\":{\"value\":0.1},\"fill_color\":{\"value\":\"#1f77b4\"},\"line_alpha\":{\"value\":0.1},\"line_color\":{\"value\":\"#1f77b4\"},\"size\":{\"units\":\"screen\",\"value\":7},\"x\":{\"field\":\"x\"},\"y\":{\"field\":\"y\"}},\"id\":\"f38c4a97-1cf6-4cbe-8cb3-0a67d035bda3\",\"type\":\"Circle\"},{\"attributes\":{\"callback\":null,\"column_names\":[\"x\",\"y\",\"z\"],\"data\":{\"x\":[\"Snippet\",\"Email\",\"Snippet - Beta\",\"Snippet - Nightly\",\"Snippet - Dev\",\"Blog\",\"Social\",\"Default Link\",\"MozFr community\",\"Hidden Link\"],\"y\":[150177,33813,5970,1345,543,396,212,165,32,1],\"z\":[1,2,3,4,5,6,7,8,9,10]}},\"id\":\"f0b1f0dd-e8b5-4206-acd4-2e861d0d678d\",\"type\":\"ColumnDataSource\"},{\"attributes\":{\"plot\":null,\"text\":\"India - Price\"},\"id\":\"631fcd6f-a608-4594-9719-0dd4fb88e1b4\",\"type\":\"Title\"},{\"attributes\":{\"callback\":null},\"id\":\"7b20bad7-ea66-4c77-a779-7a1006b2a228\",\"type\":\"DataRange1d\"},{\"attributes\":{\"active_drag\":\"auto\",\"active_inspect\":\"auto\",\"active_scroll\":\"auto\",\"active_tap\":\"auto\",\"tools\":[{\"id\":\"abbc13e4-db29-489d-ab09-6a9680d3a912\",\"type\":\"HoverTool\"}]},\"id\":\"0808105f-164f-405e-890f-cf9c451bc3a7\",\"type\":\"Toolbar\"},{\"attributes\":{\"callback\":null},\"id\":\"97641284-5c83-4fb7-999a-f84444144a04\",\"type\":\"DataRange1d\"},{\"attributes\":{\"axis_label\":\"Quantity\",\"formatter\":{\"id\":\"b22dcda4-b500-4e44-bbf8-775e7131bbbe\",\"type\":\"BasicTickFormatter\"},\"plot\":{\"id\":\"af7e43e6-a3f1-429b-a7d0-1dac53b6ec75\",\"subtype\":\"Figure\",\"type\":\"Plot\"},\"ticker\":{\"id\":\"fb745c6e-1495-4c76-8daa-c56dae8425c4\",\"type\":\"BasicTicker\"}},\"id\":\"fd391a43-f230-47c6-bb62-5cdecd2c0cb3\",\"type\":\"LinearAxis\"},{\"attributes\":{},\"id\":\"6992b973-b36e-4547-8f6a-010a932ec08d\",\"type\":\"BasicTickFormatter\"},{\"attributes\":{\"callback\":null,\"tooltips\":[[\"Price Level \",\"@x\"],[\"Quantity \",\"@y\"],[\"Country\",\"India\"]]},\"id\":\"b23d87a3-4ce8-427e-bfab-49b0a4a54cc9\",\"type\":\"HoverTool\"},{\"attributes\":{},\"id\":\"b22dcda4-b500-4e44-bbf8-775e7131bbbe\",\"type\":\"BasicTickFormatter\"},{\"attributes\":{\"fill_alpha\":{\"value\":0.1},\"fill_color\":{\"value\":\"#1f77b4\"},\"line_alpha\":{\"value\":0.1},\"line_color\":{\"value\":\"#1f77b4\"},\"size\":{\"units\":\"screen\",\"value\":10},\"x\":{\"field\":\"z\"},\"y\":{\"field\":\"y\"}},\"id\":\"a5bb7f75-1546-4918-acdf-529b9afaf79f\",\"type\":\"Circle\"},{\"attributes\":{\"children\":[{\"id\":\"af7e43e6-a3f1-429b-a7d0-1dac53b6ec75\",\"subtype\":\"Figure\",\"type\":\"Plot\"},{\"id\":\"56702359-89e9-4daf-9bab-fb139696b995\",\"subtype\":\"Figure\",\"type\":\"Plot\"},{\"id\":\"a1969ffb-bf60-41e0-ba42-ed68836f40ed\",\"subtype\":\"Figure\",\"type\":\"Plot\"}]},\"id\":\"82b1dd75-d803-4c78-a72b-28b1eb7eb449\",\"type\":\"Column\"},{\"attributes\":{},\"id\":\"abf22065-795a-4d2d-b9cf-78d8d4fbce90\",\"type\":\"BasicTickFormatter\"},{\"attributes\":{},\"id\":\"d1204f0e-61b3-43c1-aa6c-980392788ac7\",\"type\":\"SaveTool\"},{\"attributes\":{\"dimension\":1,\"plot\":{\"id\":\"56702359-89e9-4daf-9bab-fb139696b995\",\"subtype\":\"Figure\",\"type\":\"Plot\"},\"ticker\":{\"id\":\"d9e2e0c6-ee7c-4d7d-8f72-9ab3e89ad19d\",\"type\":\"BasicTicker\"}},\"id\":\"72497bb1-a84b-4efd-85fb-35a048ea0702\",\"type\":\"Grid\"},{\"attributes\":{\"source\":{\"id\":\"505f70cf-aa6e-41ff-ae2b-fcf4f3df0b66\",\"type\":\"ColumnDataSource\"}},\"id\":\"5a526947-7926-48eb-8788-8e4551b03706\",\"type\":\"CDSView\"},{\"attributes\":{\"below\":[{\"id\":\"232d5ed3-b055-43cc-9626-7e475a29049e\",\"type\":\"LinearAxis\"}],\"left\":[{\"id\":\"90886792-98bc-4a4d-9ec3-6c53eb4921d2\",\"type\":\"LinearAxis\"}],\"plot_height\":400,\"plot_width\":400,\"renderers\":[{\"id\":\"232d5ed3-b055-43cc-9626-7e475a29049e\",\"type\":\"LinearAxis\"},{\"id\":\"3f451a8d-1d09-4deb-bb5a-1a35a5ada3ab\",\"type\":\"Grid\"},{\"id\":\"90886792-98bc-4a4d-9ec3-6c53eb4921d2\",\"type\":\"LinearAxis\"},{\"id\":\"72497bb1-a84b-4efd-85fb-35a048ea0702\",\"type\":\"Grid\"},{\"id\":\"06ff3f0d-e518-4685-a836-6b90b5d9a792\",\"type\":\"BoxAnnotation\"},{\"id\":\"d5f9d7ec-17f8-4366-abb2-69f791fc1741\",\"type\":\"GlyphRenderer\"}],\"title\":{\"id\":\"e874c41a-8073-489c-bdff-b8f09699c579\",\"type\":\"Title\"},\"toolbar\":{\"id\":\"c88b3a7a-7f32-4e73-9984-47ca67d12ab5\",\"type\":\"Toolbar\"},\"x_range\":{\"id\":\"7b20bad7-ea66-4c77-a779-7a1006b2a228\",\"type\":\"DataRange1d\"},\"x_scale\":{\"id\":\"e57d5161-a300-410d-a761-5ea0477a56de\",\"type\":\"LinearScale\"},\"y_range\":{\"id\":\"362093bf-2165-4e71-b819-4c35992de5e5\",\"type\":\"DataRange1d\"},\"y_scale\":{\"id\":\"fcdde98c-c6f3-4a8e-9a88-4e18a49343e8\",\"type\":\"LinearScale\"}},\"id\":\"56702359-89e9-4daf-9bab-fb139696b995\",\"subtype\":\"Figure\",\"type\":\"Plot\"},{\"attributes\":{\"axis_label\":\"Quantity\",\"formatter\":{\"id\":\"ee81ecd6-0d14-45d7-b5e9-f7c225343a82\",\"type\":\"BasicTickFormatter\"},\"plot\":{\"id\":\"a1969ffb-bf60-41e0-ba42-ed68836f40ed\",\"subtype\":\"Figure\",\"type\":\"Plot\"},\"ticker\":{\"id\":\"ec765dcc-c374-4e26-9753-f505220b5672\",\"type\":\"BasicTicker\"}},\"id\":\"de4fc7d3-02fe-4326-956e-3e1c3cb537c3\",\"type\":\"LinearAxis\"},{\"attributes\":{\"active_drag\":\"auto\",\"active_inspect\":\"auto\",\"active_scroll\":\"auto\",\"active_tap\":\"auto\",\"tools\":[{\"id\":\"b23d87a3-4ce8-427e-bfab-49b0a4a54cc9\",\"type\":\"HoverTool\"}]},\"id\":\"0fdf8ead-ae6a-4c74-9600-e2da02de3320\",\"type\":\"Toolbar\"},{\"attributes\":{\"dimension\":1,\"plot\":{\"id\":\"af7e43e6-a3f1-429b-a7d0-1dac53b6ec75\",\"subtype\":\"Figure\",\"type\":\"Plot\"},\"ticker\":{\"id\":\"fb745c6e-1495-4c76-8daa-c56dae8425c4\",\"type\":\"BasicTicker\"}},\"id\":\"1db4dd2d-7955-4c71-9aae-441388ad5282\",\"type\":\"Grid\"},{\"attributes\":{\"plot\":{\"id\":\"a1969ffb-bf60-41e0-ba42-ed68836f40ed\",\"subtype\":\"Figure\",\"type\":\"Plot\"},\"ticker\":{\"id\":\"13c2a4e8-9243-429f-83a1-2719c0ad5dc2\",\"type\":\"BasicTicker\"}},\"id\":\"d56d7fba-e938-4aee-92ca-c23ec6a67b05\",\"type\":\"Grid\"},{\"attributes\":{\"data_source\":{\"id\":\"3ce3394a-b837-434b-9bc8-17ff892fa871\",\"type\":\"ColumnDataSource\"},\"glyph\":{\"id\":\"5454430b-7a8b-4c30-afe7-f9715a72bd44\",\"type\":\"Line\"},\"hover_glyph\":null,\"muted_glyph\":null,\"nonselection_glyph\":{\"id\":\"53796b19-e044-461e-a25f-4b68d004aaa7\",\"type\":\"Line\"},\"selection_glyph\":null,\"view\":{\"id\":\"9f149900-4c33-4855-bc9f-5c381a51493a\",\"type\":\"CDSView\"}},\"id\":\"55e9bc3b-a339-4113-a2ca-56682a22883e\",\"type\":\"GlyphRenderer\"},{\"attributes\":{\"fill_color\":{\"value\":\"blue\"},\"line_color\":{\"value\":\"blue\"},\"top\":{\"field\":\"top\"},\"width\":{\"value\":0.5},\"x\":{\"field\":\"x\"}},\"id\":\"e285044e-7d31-4857-94e9-f29083def7b1\",\"type\":\"VBar\"},{\"attributes\":{},\"id\":\"e57d5161-a300-410d-a761-5ea0477a56de\",\"type\":\"LinearScale\"},{\"attributes\":{},\"id\":\"ef8c349e-590c-48ff-a536-82c71986af73\",\"type\":\"PanTool\"},{\"attributes\":{},\"id\":\"fb745c6e-1495-4c76-8daa-c56dae8425c4\",\"type\":\"BasicTicker\"},{\"attributes\":{},\"id\":\"ec765dcc-c374-4e26-9753-f505220b5672\",\"type\":\"BasicTicker\"},{\"attributes\":{\"axis_label\":\"Price Level\",\"formatter\":{\"id\":\"b01593d5-57ad-4b86-94ac-d04a23926ab3\",\"type\":\"BasicTickFormatter\"},\"plot\":{\"id\":\"56702359-89e9-4daf-9bab-fb139696b995\",\"subtype\":\"Figure\",\"type\":\"Plot\"},\"ticker\":{\"id\":\"06487dac-a2fc-4149-87bb-75e74fcc99b4\",\"type\":\"BasicTicker\"}},\"id\":\"232d5ed3-b055-43cc-9626-7e475a29049e\",\"type\":\"LinearAxis\"},{\"attributes\":{\"active_drag\":\"auto\",\"active_inspect\":\"auto\",\"active_scroll\":\"auto\",\"active_tap\":\"auto\",\"tools\":[{\"id\":\"ef8c349e-590c-48ff-a536-82c71986af73\",\"type\":\"PanTool\"},{\"id\":\"68388745-1160-4c1a-94a9-19355168b2f1\",\"type\":\"WheelZoomTool\"},{\"id\":\"9eab4dc7-faf8-4d8a-8ddb-1c2b637d50d9\",\"type\":\"BoxZoomTool\"},{\"id\":\"d1204f0e-61b3-43c1-aa6c-980392788ac7\",\"type\":\"SaveTool\"},{\"id\":\"ee34f8b4-b8bd-4633-b103-3aaaf72eb473\",\"type\":\"ResetTool\"},{\"id\":\"eb399775-9b32-42c2-a9c0-433690713457\",\"type\":\"HelpTool\"}]},\"id\":\"c88b3a7a-7f32-4e73-9984-47ca67d12ab5\",\"type\":\"Toolbar\"},{\"attributes\":{\"fill_color\":{\"value\":\"#1f77b4\"},\"line_color\":{\"value\":\"#1f77b4\"},\"size\":{\"units\":\"screen\",\"value\":10},\"x\":{\"field\":\"z\"},\"y\":{\"field\":\"y\"}},\"id\":\"ec7d1b1a-b49a-4b7d-a5bf-16aa566961c1\",\"type\":\"Circle\"},{\"attributes\":{},\"id\":\"4e1fc5aa-ce05-41ed-a7af-da83afda39da\",\"type\":\"LinearScale\"},{\"attributes\":{\"callback\":null},\"id\":\"43eec731-66ba-4286-9f46-3a7ef7983be0\",\"type\":\"DataRange1d\"},{\"attributes\":{\"callback\":null},\"id\":\"ac18c5e5-2c1d-4678-ab0f-2b87f1fa8c20\",\"type\":\"DataRange1d\"},{\"attributes\":{\"source\":{\"id\":\"f0b1f0dd-e8b5-4206-acd4-2e861d0d678d\",\"type\":\"ColumnDataSource\"}},\"id\":\"b99686ef-9663-4ae0-b1c4-bd498ff05a8d\",\"type\":\"CDSView\"},{\"attributes\":{},\"id\":\"13c2a4e8-9243-429f-83a1-2719c0ad5dc2\",\"type\":\"BasicTicker\"},{\"attributes\":{\"callback\":null,\"tooltips\":[[\"Link Name \",\"@x\"],[\"Link Value \",\"@y\"]]},\"id\":\"abbc13e4-db29-489d-ab09-6a9680d3a912\",\"type\":\"HoverTool\"}],\"root_ids\":[\"82b1dd75-d803-4c78-a72b-28b1eb7eb449\"]},\"title\":\"Bokeh Application\",\"version\":\"0.12.13\"}};\n",
       "  var render_items = [{\"docid\":\"fcfc48ec-4fd5-46e2-ac1a-12847038cac0\",\"elementid\":\"33ed2d8e-c4ac-4441-a354-b852405005c3\",\"modelid\":\"82b1dd75-d803-4c78-a72b-28b1eb7eb449\"}];\n",
       "  root.Bokeh.embed.embed_items_notebook(docs_json, render_items);\n",
       "\n",
       "  }\n",
       "  if (root.Bokeh !== undefined) {\n",
       "    embed_document(root);\n",
       "  } else {\n",
       "    var attempts = 0;\n",
       "    var timer = setInterval(function(root) {\n",
       "      if (root.Bokeh !== undefined) {\n",
       "        embed_document(root);\n",
       "        clearInterval(timer);\n",
       "      }\n",
       "      attempts++;\n",
       "      if (attempts > 100) {\n",
       "        console.log(\"Bokeh: ERROR: Unable to run BokehJS code because BokehJS library is missing\")\n",
       "        clearInterval(timer);\n",
       "      }\n",
       "    }, 10, root)\n",
       "  }\n",
       "})(window);"
      ],
      "application/vnd.bokehjs_exec.v0+json": ""
     },
     "metadata": {
      "application/vnd.bokehjs_exec.v0+json": {
       "id": "82b1dd75-d803-4c78-a72b-28b1eb7eb449"
      }
     },
     "output_type": "display_data"
    }
   ],
   "source": [
    "from bokeh.models import HoverTool\n",
    "\n",
    "\n",
    "output_file('project3.html')\n",
    "\n",
    "# %matplotlib\n",
    "\n",
    "\n",
    "\n",
    "\n",
    "#Graph a is scatter plot for 'India-price'\n",
    "hover = HoverTool(tooltips=[\n",
    "    (\"Price Level \", \"@x\"),\n",
    "    (\"Quantity \", \"@y\"),\n",
    "        (\"Country\",\"India\")\n",
    "\n",
    "])\n",
    "a = figure(plot_width=400, plot_height=400, tools=[hover],\n",
    "           title=\"India - Price\")\n",
    "source = ColumnDataSource(data=dict(\n",
    "    x=list1,\n",
    "    y=list2,\n",
    "))\n",
    "\n",
    "a.circle('x', 'y', size=7, source=source)\n",
    "a.yaxis.axis_label = \"Quantity\"\n",
    "a.xaxis.axis_label = \"Price Level\"\n",
    "\n",
    "\n",
    "\n",
    "\n",
    "\n",
    "# Graph b is bar plot for 'India-price'\n",
    "\n",
    "b = figure(plot_width=400, plot_height=400,title=\"India - Price\")\n",
    "\n",
    "b.yaxis.axis_label = \"Quantity\"\n",
    "b.xaxis.axis_label = \"Price Level\"\n",
    "b.vbar(x=list1, width=0.5, bottom=0,\n",
    "       top=list2, color=\"blue\")\n",
    "\n",
    "\n",
    "# Graph p is line graph for \"Link name\"\n",
    "\n",
    "Link_raw = data[['Link Name']]\n",
    "Link = Link_raw['Link Name'].value_counts()\n",
    "link_name = list(Link.keys().values)\n",
    "link_value = list(Link.values)\n",
    "dictionary = dict(zip(link_name,link_value))\n",
    "dictionary\n",
    "number  = [1,2,3,4,5,6,7,8,9,10]\n",
    "\n",
    "\n",
    "source = ColumnDataSource(data=dict(\n",
    "    x=link_name,\n",
    "    y=link_value,\n",
    "    z= number,\n",
    "))\n",
    "\n",
    "hover = HoverTool(tooltips=[\n",
    "    (\"Link Name \", \"@x\"),\n",
    "    (\"Link Value \", \"@y\"),\n",
    "    \n",
    "])\n",
    "p = figure(plot_width=400, plot_height=400,tools=[hover],title=\"Link Name count\")\n",
    "\n",
    "# p = figure(x_range = link_name, y_range = link_value)\n",
    "p.line(number, link_value, line_width=2)\n",
    "p.circle('z', 'y', size=10,source = source)\n",
    "p.yaxis.axis_label = \"Quantity\"\n",
    "p.xaxis.axis_label = \"Name Index\"\n",
    "\n",
    "\n",
    "# show(p)\n",
    "\n",
    "\n",
    "# show(column(a,b))\n",
    "show(column(a,b,p))\n",
    "# show(widgetbox(toggle))\n"
   ]
  },
  {
   "cell_type": "code",
   "execution_count": 18,
   "metadata": {},
   "outputs": [],
   "source": [
    "from bokeh.plotting import figure, show, ColumnDataSource\n",
    "from bokeh.models import HoverTool\n",
    "\n",
    "\n"
   ]
  },
  {
   "cell_type": "code",
   "execution_count": 19,
   "metadata": {},
   "outputs": [],
   "source": [
    "# from bokeh.plotting import figure, show\n",
    "\n",
    "# plot = figure(x_range = list(India_count.keys().values), title = 'sdaas')\n",
    "# plot.vbar(x = list(India_count.keys().values), width = 0.5, bottom = 0, top = list(India_count.values))\n",
    "# show(plot)"
   ]
  },
  {
   "cell_type": "code",
   "execution_count": null,
   "metadata": {},
   "outputs": [],
   "source": []
  },
  {
   "cell_type": "code",
   "execution_count": 20,
   "metadata": {},
   "outputs": [],
   "source": [
    "# from bokeh.plotting import figure, show\n",
    "\n",
    "# plot = figure(x_range= list(India_count.keys().values), title = 'sdaas')\n",
    "# plot.vbar(x = India_count1.keys().values, width = 0.5, bottom = 0, top = India_count1.get_values())\n",
    "# show(plot)\n",
    "# # India_count\n",
    "# # India['Price'].value.counts()"
   ]
  },
  {
   "cell_type": "code",
   "execution_count": 21,
   "metadata": {},
   "outputs": [],
   "source": [
    "# # from bokeh.charts import Scatter, show\n",
    "\n",
    "# source = ColumnDataSource(India)\n",
    "# plot = figure()\n",
    "# plot.bar(x = Country, top = 'Price', width = 0.9,source = source)\n",
    "# show(plot)"
   ]
  },
  {
   "cell_type": "code",
   "execution_count": null,
   "metadata": {},
   "outputs": [],
   "source": []
  },
  {
   "cell_type": "code",
   "execution_count": null,
   "metadata": {},
   "outputs": [],
   "source": []
  },
  {
   "cell_type": "code",
   "execution_count": null,
   "metadata": {},
   "outputs": [],
   "source": [
    "\n",
    "\n"
   ]
  },
  {
   "cell_type": "code",
   "execution_count": null,
   "metadata": {},
   "outputs": [],
   "source": [
    "\n",
    "\n",
    "\n"
   ]
  },
  {
   "cell_type": "code",
   "execution_count": null,
   "metadata": {},
   "outputs": [],
   "source": []
  },
  {
   "cell_type": "code",
   "execution_count": null,
   "metadata": {},
   "outputs": [],
   "source": []
  },
  {
   "cell_type": "code",
   "execution_count": null,
   "metadata": {},
   "outputs": [],
   "source": [
    "\n"
   ]
  },
  {
   "cell_type": "code",
   "execution_count": 80,
   "metadata": {},
   "outputs": [
    {
     "ename": "AttributeError",
     "evalue": "'Series' object has no attribute 'Country'",
     "output_type": "error",
     "traceback": [
      "\u001b[0;31m---------------------------------------------------------------------------\u001b[0m",
      "\u001b[0;31mAttributeError\u001b[0m                            Traceback (most recent call last)",
      "\u001b[0;32m<ipython-input-80-cb268caa36eb>\u001b[0m in \u001b[0;36m<module>\u001b[0;34m()\u001b[0m\n\u001b[1;32m      2\u001b[0m \u001b[0;32mfrom\u001b[0m \u001b[0mbokeh\u001b[0m\u001b[0;34m.\u001b[0m\u001b[0mplotting\u001b[0m \u001b[0;32mimport\u001b[0m \u001b[0mfigure\u001b[0m\u001b[0;34m\u001b[0m\u001b[0m\n\u001b[1;32m      3\u001b[0m \u001b[0mp\u001b[0m \u001b[0;34m=\u001b[0m \u001b[0mfigure\u001b[0m\u001b[0;34m(\u001b[0m\u001b[0;34m)\u001b[0m\u001b[0;34m\u001b[0m\u001b[0m\n\u001b[0;32m----> 4\u001b[0;31m \u001b[0mp\u001b[0m\u001b[0;34m.\u001b[0m\u001b[0mcircle\u001b[0m\u001b[0;34m(\u001b[0m\u001b[0mx\u001b[0m \u001b[0;34m=\u001b[0m \u001b[0mprice_mean\u001b[0m\u001b[0;34m.\u001b[0m\u001b[0mCountry\u001b[0m\u001b[0;34m,\u001b[0m\u001b[0my\u001b[0m\u001b[0;34m=\u001b[0m\u001b[0mprice_mean\u001b[0m\u001b[0;34m.\u001b[0m\u001b[0mPrice\u001b[0m\u001b[0;34m)\u001b[0m\u001b[0;34m\u001b[0m\u001b[0m\n\u001b[0m\u001b[1;32m      5\u001b[0m \u001b[0mshow\u001b[0m\u001b[0;34m(\u001b[0m\u001b[0mp\u001b[0m\u001b[0;34m)\u001b[0m\u001b[0;34m\u001b[0m\u001b[0m\n",
      "\u001b[0;32m~/anaconda3/lib/python3.6/site-packages/pandas/core/generic.py\u001b[0m in \u001b[0;36m__getattr__\u001b[0;34m(self, name)\u001b[0m\n\u001b[1;32m   3612\u001b[0m             \u001b[0;32mif\u001b[0m \u001b[0mname\u001b[0m \u001b[0;32min\u001b[0m \u001b[0mself\u001b[0m\u001b[0;34m.\u001b[0m\u001b[0m_info_axis\u001b[0m\u001b[0;34m:\u001b[0m\u001b[0;34m\u001b[0m\u001b[0m\n\u001b[1;32m   3613\u001b[0m                 \u001b[0;32mreturn\u001b[0m \u001b[0mself\u001b[0m\u001b[0;34m[\u001b[0m\u001b[0mname\u001b[0m\u001b[0;34m]\u001b[0m\u001b[0;34m\u001b[0m\u001b[0m\n\u001b[0;32m-> 3614\u001b[0;31m             \u001b[0;32mreturn\u001b[0m \u001b[0mobject\u001b[0m\u001b[0;34m.\u001b[0m\u001b[0m__getattribute__\u001b[0m\u001b[0;34m(\u001b[0m\u001b[0mself\u001b[0m\u001b[0;34m,\u001b[0m \u001b[0mname\u001b[0m\u001b[0;34m)\u001b[0m\u001b[0;34m\u001b[0m\u001b[0m\n\u001b[0m\u001b[1;32m   3615\u001b[0m \u001b[0;34m\u001b[0m\u001b[0m\n\u001b[1;32m   3616\u001b[0m     \u001b[0;32mdef\u001b[0m \u001b[0m__setattr__\u001b[0m\u001b[0;34m(\u001b[0m\u001b[0mself\u001b[0m\u001b[0;34m,\u001b[0m \u001b[0mname\u001b[0m\u001b[0;34m,\u001b[0m \u001b[0mvalue\u001b[0m\u001b[0;34m)\u001b[0m\u001b[0;34m:\u001b[0m\u001b[0;34m\u001b[0m\u001b[0m\n",
      "\u001b[0;31mAttributeError\u001b[0m: 'Series' object has no attribute 'Country'"
     ]
    }
   ],
   "source": [
    "from bokeh.io import show\n",
    "from bokeh.plotting import figure\n",
    "p = figure()\n",
    "p.circle(x = price_mean.Country,y=price_mean.Price)\n",
    "show(p)"
   ]
  },
  {
   "cell_type": "code",
   "execution_count": 81,
   "metadata": {},
   "outputs": [],
   "source": [
    "country = data['Country']\n",
    "c = data.groupby('Country')"
   ]
  },
  {
   "cell_type": "code",
   "execution_count": 82,
   "metadata": {},
   "outputs": [
    {
     "data": {
      "text/html": [
       "<div>\n",
       "<style scoped>\n",
       "    .dataframe tbody tr th:only-of-type {\n",
       "        vertical-align: middle;\n",
       "    }\n",
       "\n",
       "    .dataframe tbody tr th {\n",
       "        vertical-align: top;\n",
       "    }\n",
       "\n",
       "    .dataframe thead th {\n",
       "        text-align: right;\n",
       "    }\n",
       "</style>\n",
       "<table border=\"1\" class=\"dataframe\">\n",
       "  <thead>\n",
       "    <tr style=\"text-align: right;\">\n",
       "      <th></th>\n",
       "      <th>Link Name</th>\n",
       "      <th>Total number</th>\n",
       "    </tr>\n",
       "  </thead>\n",
       "  <tbody>\n",
       "    <tr>\n",
       "      <th>0</th>\n",
       "      <td>Snippet</td>\n",
       "      <td>150177</td>\n",
       "    </tr>\n",
       "    <tr>\n",
       "      <th>1</th>\n",
       "      <td>Email</td>\n",
       "      <td>33813</td>\n",
       "    </tr>\n",
       "    <tr>\n",
       "      <th>2</th>\n",
       "      <td>Snippet - Beta</td>\n",
       "      <td>5970</td>\n",
       "    </tr>\n",
       "    <tr>\n",
       "      <th>3</th>\n",
       "      <td>Snippet - Nightly</td>\n",
       "      <td>1345</td>\n",
       "    </tr>\n",
       "    <tr>\n",
       "      <th>4</th>\n",
       "      <td>Snippet - Dev</td>\n",
       "      <td>543</td>\n",
       "    </tr>\n",
       "    <tr>\n",
       "      <th>5</th>\n",
       "      <td>Blog</td>\n",
       "      <td>396</td>\n",
       "    </tr>\n",
       "    <tr>\n",
       "      <th>6</th>\n",
       "      <td>Social</td>\n",
       "      <td>212</td>\n",
       "    </tr>\n",
       "    <tr>\n",
       "      <th>7</th>\n",
       "      <td>Default Link</td>\n",
       "      <td>165</td>\n",
       "    </tr>\n",
       "    <tr>\n",
       "      <th>8</th>\n",
       "      <td>MozFr community</td>\n",
       "      <td>32</td>\n",
       "    </tr>\n",
       "    <tr>\n",
       "      <th>9</th>\n",
       "      <td>Hidden Link</td>\n",
       "      <td>1</td>\n",
       "    </tr>\n",
       "  </tbody>\n",
       "</table>\n",
       "</div>"
      ],
      "text/plain": [
       "           Link Name  Total number\n",
       "0            Snippet        150177\n",
       "1              Email         33813\n",
       "2     Snippet - Beta          5970\n",
       "3  Snippet - Nightly          1345\n",
       "4      Snippet - Dev           543\n",
       "5               Blog           396\n",
       "6             Social           212\n",
       "7       Default Link           165\n",
       "8    MozFr community            32\n",
       "9        Hidden Link             1"
      ]
     },
     "execution_count": 82,
     "metadata": {},
     "output_type": "execute_result"
    }
   ],
   "source": [
    "line = pd.read_csv('3.csv')\n",
    "line"
   ]
  },
  {
   "cell_type": "code",
   "execution_count": 83,
   "metadata": {},
   "outputs": [
    {
     "data": {
      "text/plain": [
       "array([0, 1, 2, 3, 4, 5, 6, 7, 8, 9])"
      ]
     },
     "execution_count": 83,
     "metadata": {},
     "output_type": "execute_result"
    }
   ],
   "source": [
    "line['Total number'].keys().values"
   ]
  },
  {
   "cell_type": "code",
   "execution_count": null,
   "metadata": {},
   "outputs": [],
   "source": []
  },
  {
   "cell_type": "code",
   "execution_count": null,
   "metadata": {},
   "outputs": [],
   "source": []
  }
 ],
 "metadata": {
  "kernelspec": {
   "display_name": "Python 3",
   "language": "python",
   "name": "python3"
  },
  "language_info": {
   "codemirror_mode": {
    "name": "ipython",
    "version": 3
   },
   "file_extension": ".py",
   "mimetype": "text/x-python",
   "name": "python",
   "nbconvert_exporter": "python",
   "pygments_lexer": "ipython3",
   "version": "3.6.4"
  }
 },
 "nbformat": 4,
 "nbformat_minor": 2
}
