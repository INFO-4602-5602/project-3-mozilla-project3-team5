{
 "cells": [
  {
   "cell_type": "code",
   "execution_count": 4,
   "metadata": {},
   "outputs": [],
   "source": [
    "import pandas as pd"
   ]
  },
  {
   "cell_type": "code",
   "execution_count": 6,
   "metadata": {},
   "outputs": [
    {
     "name": "stderr",
     "output_type": "stream",
     "text": [
      "/Users/yifanli/anaconda3/lib/python3.6/site-packages/IPython/core/interactiveshell.py:2728: DtypeWarning: Columns (0,24,25,26,27,28,29,30,31,32,33) have mixed types. Specify dtype option on import or set low_memory=False.\n",
      "  interactivity=interactivity, compiler=compiler, result=result)\n"
     ]
    },
    {
     "data": {
      "text/html": [
       "<div>\n",
       "<style scoped>\n",
       "    .dataframe tbody tr th:only-of-type {\n",
       "        vertical-align: middle;\n",
       "    }\n",
       "\n",
       "    .dataframe tbody tr th {\n",
       "        vertical-align: top;\n",
       "    }\n",
       "\n",
       "    .dataframe thead th {\n",
       "        text-align: right;\n",
       "    }\n",
       "</style>\n",
       "<table border=\"1\" class=\"dataframe\">\n",
       "  <thead>\n",
       "    <tr style=\"text-align: right;\">\n",
       "      <th></th>\n",
       "      <th>Country</th>\n",
       "      <th>Price</th>\n",
       "      <th>Features</th>\n",
       "      <th>Safety</th>\n",
       "      <th>Security</th>\n",
       "      <th>Privacy</th>\n",
       "      <th>Reliability</th>\n",
       "      <th>User Reviews</th>\n",
       "      <th>Expert Recommendation</th>\n",
       "      <th>Friend or Family Recommendation</th>\n",
       "      <th>Convenience</th>\n",
       "    </tr>\n",
       "  </thead>\n",
       "  <tbody>\n",
       "    <tr>\n",
       "      <th>0</th>\n",
       "      <td>United States</td>\n",
       "      <td>4</td>\n",
       "      <td>1</td>\n",
       "      <td>8</td>\n",
       "      <td>10</td>\n",
       "      <td>9</td>\n",
       "      <td>6</td>\n",
       "      <td>3</td>\n",
       "      <td>7</td>\n",
       "      <td>2</td>\n",
       "      <td>5</td>\n",
       "    </tr>\n",
       "    <tr>\n",
       "      <th>1</th>\n",
       "      <td>United States</td>\n",
       "      <td>2</td>\n",
       "      <td>3</td>\n",
       "      <td>10</td>\n",
       "      <td>9</td>\n",
       "      <td>8</td>\n",
       "      <td>5</td>\n",
       "      <td>4</td>\n",
       "      <td>7</td>\n",
       "      <td>1</td>\n",
       "      <td>6</td>\n",
       "    </tr>\n",
       "    <tr>\n",
       "      <th>2</th>\n",
       "      <td>United States</td>\n",
       "      <td>2</td>\n",
       "      <td>1</td>\n",
       "      <td>8</td>\n",
       "      <td>9</td>\n",
       "      <td>10</td>\n",
       "      <td>4</td>\n",
       "      <td>5</td>\n",
       "      <td>3</td>\n",
       "      <td>6</td>\n",
       "      <td>7</td>\n",
       "    </tr>\n",
       "    <tr>\n",
       "      <th>3</th>\n",
       "      <td>United States</td>\n",
       "      <td>6</td>\n",
       "      <td>8</td>\n",
       "      <td>9</td>\n",
       "      <td>5</td>\n",
       "      <td>4</td>\n",
       "      <td>10</td>\n",
       "      <td>3</td>\n",
       "      <td>1</td>\n",
       "      <td>2</td>\n",
       "      <td>7</td>\n",
       "    </tr>\n",
       "    <tr>\n",
       "      <th>4</th>\n",
       "      <td>Canada</td>\n",
       "      <td>7</td>\n",
       "      <td>3</td>\n",
       "      <td>5</td>\n",
       "      <td>4</td>\n",
       "      <td>6</td>\n",
       "      <td>10</td>\n",
       "      <td>1</td>\n",
       "      <td>2</td>\n",
       "      <td>9</td>\n",
       "      <td>8</td>\n",
       "    </tr>\n",
       "  </tbody>\n",
       "</table>\n",
       "</div>"
      ],
      "text/plain": [
       "         Country Price Features Safety Security Privacy Reliability  \\\n",
       "0  United States     4        1      8       10       9           6   \n",
       "1  United States     2        3     10        9       8           5   \n",
       "2  United States     2        1      8        9      10           4   \n",
       "3  United States     6        8      9        5       4          10   \n",
       "4         Canada     7        3      5        4       6          10   \n",
       "\n",
       "  User Reviews Expert Recommendation Friend or Family Recommendation  \\\n",
       "0            3                     7                               2   \n",
       "1            4                     7                               1   \n",
       "2            5                     3                               6   \n",
       "3            3                     1                               2   \n",
       "4            1                     2                               9   \n",
       "\n",
       "  Convenience  \n",
       "0           5  \n",
       "1           6  \n",
       "2           7  \n",
       "3           7  \n",
       "4           8  "
      ]
     },
     "execution_count": 6,
     "metadata": {},
     "output_type": "execute_result"
    }
   ],
   "source": [
    "data = pd.read_csv('SurveyExport.csv',encoding = \"ISO-8859-1\")\n",
    "project3_raw = data[['Country','Price','Features','Safety','Security','Privacy','Reliability','User Reviews','Expert Recommendation','Friend or Family Recommendation','Convenience']]\n",
    "project3 = project3_raw.dropna()\n",
    "# print(len(project3_raw))\n",
    "project3.to_csv('project3_geo.csv')\n",
    "project3.head()\n",
    "\n"
   ]
  },
  {
   "cell_type": "code",
   "execution_count": null,
   "metadata": {},
   "outputs": [],
   "source": []
  },
  {
   "cell_type": "code",
   "execution_count": null,
   "metadata": {},
   "outputs": [],
   "source": []
  },
  {
   "cell_type": "code",
   "execution_count": null,
   "metadata": {},
   "outputs": [],
   "source": []
  },
  {
   "cell_type": "code",
   "execution_count": null,
   "metadata": {},
   "outputs": [],
   "source": []
  },
  {
   "cell_type": "code",
   "execution_count": null,
   "metadata": {},
   "outputs": [],
   "source": []
  },
  {
   "cell_type": "code",
   "execution_count": 19,
   "metadata": {},
   "outputs": [
    {
     "data": {
      "text/plain": [
       "France                              22662\n",
       "Italy                               20028\n",
       "Germany                             17029\n",
       "United States                       14225\n",
       "Brazil                               8240\n",
       "Mexico                               3827\n",
       "United Kingdom                       3717\n",
       "Spain                                3398\n",
       "Canada                               3137\n",
       "Switzerland                          2582\n",
       "India                                2334\n",
       "Australia                            1881\n",
       "Belgium                              1834\n",
       "Argentina                            1580\n",
       "Austria                              1519\n",
       "Colombia                             1262\n",
       "Chile                                 765\n",
       "Venezuela                             599\n",
       "Ecuador                               556\n",
       "Netherlands                           530\n",
       "Indonesia                             454\n",
       "New Zealand                           434\n",
       "Peru                                  414\n",
       "Algeria                               375\n",
       "South Africa                          317\n",
       "Morocco                               312\n",
       "Philippines                           283\n",
       "Ireland                               262\n",
       "Reunion                               259\n",
       "Costa Rica                            255\n",
       "                                    ...  \n",
       "Gibraltar                               2\n",
       "Vanuatu                                 2\n",
       "Tonga                                   2\n",
       "Macau                                   2\n",
       "Palestinian Territory                   2\n",
       "Saint Lucia                             2\n",
       "Gambia                                  2\n",
       "Cayman Islands                          2\n",
       "Libya                                   1\n",
       "Christmas Island                        1\n",
       "Aruba                                   1\n",
       "Kyrgyzstan                              1\n",
       "Holy See (Vatican City State)           1\n",
       "Saint Martin                            1\n",
       "Seychelles                              1\n",
       "Dominica                                1\n",
       "Azerbaijan                              1\n",
       "Micronesia, Federated States of         1\n",
       "Saint Vincent and the Grenadines        1\n",
       "Suriname                                1\n",
       "Central African Republic                1\n",
       "South Sudan                             1\n",
       "Equatorial Guinea                       1\n",
       "Marshall Islands                        1\n",
       "Solomon Islands                         1\n",
       "Saint Kitts and Nevis                   1\n",
       "Tajikistan                              1\n",
       "Uzbekistan                              1\n",
       "Somalia                                 1\n",
       "Northern Mariana Islands                1\n",
       "Name: Country, Length: 207, dtype: int64"
      ]
     },
     "execution_count": 19,
     "metadata": {},
     "output_type": "execute_result"
    }
   ],
   "source": [
    "count = project3['Country'].value_counts()\n",
    "count\n",
    "# count.keys()"
   ]
  },
  {
   "cell_type": "code",
   "execution_count": 20,
   "metadata": {},
   "outputs": [
    {
     "data": {
      "text/plain": [
       "Country                            object\n",
       "Price                               int64\n",
       "Features                            int64\n",
       "Safety                              int64\n",
       "Security                            int64\n",
       "Privacy                             int64\n",
       "Reliability                         int64\n",
       "User Reviews                        int64\n",
       "Expert Recommendation               int64\n",
       "Friend or Family Recommendation     int64\n",
       "Convenience                         int64\n",
       "dtype: object"
      ]
     },
     "execution_count": 20,
     "metadata": {},
     "output_type": "execute_result"
    }
   ],
   "source": [
    "project3.dtypes  # check type of data frame"
   ]
  },
  {
   "cell_type": "code",
   "execution_count": 21,
   "metadata": {},
   "outputs": [
    {
     "name": "stderr",
     "output_type": "stream",
     "text": [
      "/Users/yifanli/anaconda3/lib/python3.6/site-packages/ipykernel_launcher.py:1: SettingWithCopyWarning: \n",
      "A value is trying to be set on a copy of a slice from a DataFrame.\n",
      "Try using .loc[row_indexer,col_indexer] = value instead\n",
      "\n",
      "See the caveats in the documentation: http://pandas.pydata.org/pandas-docs/stable/indexing.html#indexing-view-versus-copy\n",
      "  \"\"\"Entry point for launching an IPython kernel.\n",
      "/Users/yifanli/anaconda3/lib/python3.6/site-packages/ipykernel_launcher.py:2: SettingWithCopyWarning: \n",
      "A value is trying to be set on a copy of a slice from a DataFrame.\n",
      "Try using .loc[row_indexer,col_indexer] = value instead\n",
      "\n",
      "See the caveats in the documentation: http://pandas.pydata.org/pandas-docs/stable/indexing.html#indexing-view-versus-copy\n",
      "  \n",
      "/Users/yifanli/anaconda3/lib/python3.6/site-packages/ipykernel_launcher.py:3: SettingWithCopyWarning: \n",
      "A value is trying to be set on a copy of a slice from a DataFrame.\n",
      "Try using .loc[row_indexer,col_indexer] = value instead\n",
      "\n",
      "See the caveats in the documentation: http://pandas.pydata.org/pandas-docs/stable/indexing.html#indexing-view-versus-copy\n",
      "  This is separate from the ipykernel package so we can avoid doing imports until\n",
      "/Users/yifanli/anaconda3/lib/python3.6/site-packages/ipykernel_launcher.py:4: SettingWithCopyWarning: \n",
      "A value is trying to be set on a copy of a slice from a DataFrame.\n",
      "Try using .loc[row_indexer,col_indexer] = value instead\n",
      "\n",
      "See the caveats in the documentation: http://pandas.pydata.org/pandas-docs/stable/indexing.html#indexing-view-versus-copy\n",
      "  after removing the cwd from sys.path.\n",
      "/Users/yifanli/anaconda3/lib/python3.6/site-packages/ipykernel_launcher.py:5: SettingWithCopyWarning: \n",
      "A value is trying to be set on a copy of a slice from a DataFrame.\n",
      "Try using .loc[row_indexer,col_indexer] = value instead\n",
      "\n",
      "See the caveats in the documentation: http://pandas.pydata.org/pandas-docs/stable/indexing.html#indexing-view-versus-copy\n",
      "  \"\"\"\n",
      "/Users/yifanli/anaconda3/lib/python3.6/site-packages/ipykernel_launcher.py:6: SettingWithCopyWarning: \n",
      "A value is trying to be set on a copy of a slice from a DataFrame.\n",
      "Try using .loc[row_indexer,col_indexer] = value instead\n",
      "\n",
      "See the caveats in the documentation: http://pandas.pydata.org/pandas-docs/stable/indexing.html#indexing-view-versus-copy\n",
      "  \n",
      "/Users/yifanli/anaconda3/lib/python3.6/site-packages/ipykernel_launcher.py:7: SettingWithCopyWarning: \n",
      "A value is trying to be set on a copy of a slice from a DataFrame.\n",
      "Try using .loc[row_indexer,col_indexer] = value instead\n",
      "\n",
      "See the caveats in the documentation: http://pandas.pydata.org/pandas-docs/stable/indexing.html#indexing-view-versus-copy\n",
      "  import sys\n",
      "/Users/yifanli/anaconda3/lib/python3.6/site-packages/ipykernel_launcher.py:8: SettingWithCopyWarning: \n",
      "A value is trying to be set on a copy of a slice from a DataFrame.\n",
      "Try using .loc[row_indexer,col_indexer] = value instead\n",
      "\n",
      "See the caveats in the documentation: http://pandas.pydata.org/pandas-docs/stable/indexing.html#indexing-view-versus-copy\n",
      "  \n"
     ]
    },
    {
     "name": "stdout",
     "output_type": "stream",
     "text": [
      "<class 'pandas.core.frame.DataFrame'>\n",
      "Int64Index: 123458 entries, 0 to 192651\n",
      "Data columns (total 11 columns):\n",
      "Country                            123458 non-null object\n",
      "Price                              123458 non-null int64\n",
      "Features                           123458 non-null int64\n",
      "Safety                             123458 non-null int64\n",
      "Security                           123458 non-null int64\n",
      "Privacy                            123458 non-null int64\n",
      "Reliability                        123458 non-null int64\n",
      "User Reviews                       123458 non-null int64\n",
      "Expert Recommendation              123458 non-null int64\n",
      "Friend or Family Recommendation    123458 non-null int64\n",
      "Convenience                        123458 non-null int64\n",
      "dtypes: int64(10), object(1)\n",
      "memory usage: 11.3+ MB\n"
     ]
    },
    {
     "name": "stderr",
     "output_type": "stream",
     "text": [
      "/Users/yifanli/anaconda3/lib/python3.6/site-packages/ipykernel_launcher.py:9: SettingWithCopyWarning: \n",
      "A value is trying to be set on a copy of a slice from a DataFrame.\n",
      "Try using .loc[row_indexer,col_indexer] = value instead\n",
      "\n",
      "See the caveats in the documentation: http://pandas.pydata.org/pandas-docs/stable/indexing.html#indexing-view-versus-copy\n",
      "  if __name__ == '__main__':\n",
      "/Users/yifanli/anaconda3/lib/python3.6/site-packages/ipykernel_launcher.py:10: SettingWithCopyWarning: \n",
      "A value is trying to be set on a copy of a slice from a DataFrame.\n",
      "Try using .loc[row_indexer,col_indexer] = value instead\n",
      "\n",
      "See the caveats in the documentation: http://pandas.pydata.org/pandas-docs/stable/indexing.html#indexing-view-versus-copy\n",
      "  # Remove the CWD from sys.path while we load stuff.\n"
     ]
    }
   ],
   "source": [
    "project3['Price'] = project3['Price'].astype(int) # convert Price arrtibute from object to int\n",
    "project3['Features'] = project3['Features'].astype(int)\n",
    "project3['Safety'] = project3['Safety'].astype(int)\n",
    "project3['Security'] = project3['Security'].astype(int)\n",
    "project3['Privacy'] = project3['Privacy'].astype(int)\n",
    "project3['Reliability'] = project3['Reliability'].astype(int)\n",
    "project3['User Reviews'] = project3['User Reviews'].astype(int)\n",
    "project3['Expert Recommendation'] = project3['Expert Recommendation'].astype(int)\n",
    "project3['Friend or Family Recommendation'] = project3['Friend or Family Recommendation'].astype(int)\n",
    "project3['Convenience'] = project3['Convenience'].astype(int)\n",
    "project3.info()"
   ]
  },
  {
   "cell_type": "code",
   "execution_count": 22,
   "metadata": {},
   "outputs": [
    {
     "data": {
      "text/html": [
       "\n",
       "    <div class=\"bk-root\">\n",
       "        <a href=\"https://bokeh.pydata.org\" target=\"_blank\" class=\"bk-logo bk-logo-small bk-logo-notebook\"></a>\n",
       "        <span id=\"5c3a14aa-5575-427a-8b2f-95ba7be78127\">Loading BokehJS ...</span>\n",
       "    </div>"
      ]
     },
     "metadata": {},
     "output_type": "display_data"
    },
    {
     "data": {
      "application/javascript": [
       "\n",
       "(function(root) {\n",
       "  function now() {\n",
       "    return new Date();\n",
       "  }\n",
       "\n",
       "  var force = true;\n",
       "\n",
       "  if (typeof (root._bokeh_onload_callbacks) === \"undefined\" || force === true) {\n",
       "    root._bokeh_onload_callbacks = [];\n",
       "    root._bokeh_is_loading = undefined;\n",
       "  }\n",
       "\n",
       "  var JS_MIME_TYPE = 'application/javascript';\n",
       "  var HTML_MIME_TYPE = 'text/html';\n",
       "  var EXEC_MIME_TYPE = 'application/vnd.bokehjs_exec.v0+json';\n",
       "  var CLASS_NAME = 'output_bokeh rendered_html';\n",
       "\n",
       "  /**\n",
       "   * Render data to the DOM node\n",
       "   */\n",
       "  function render(props, node) {\n",
       "    var script = document.createElement(\"script\");\n",
       "    node.appendChild(script);\n",
       "  }\n",
       "\n",
       "  /**\n",
       "   * Handle when an output is cleared or removed\n",
       "   */\n",
       "  function handleClearOutput(event, handle) {\n",
       "    var cell = handle.cell;\n",
       "\n",
       "    var id = cell.output_area._bokeh_element_id;\n",
       "    var server_id = cell.output_area._bokeh_server_id;\n",
       "    // Clean up Bokeh references\n",
       "    if (id !== undefined) {\n",
       "      Bokeh.index[id].model.document.clear();\n",
       "      delete Bokeh.index[id];\n",
       "    }\n",
       "\n",
       "    if (server_id !== undefined) {\n",
       "      // Clean up Bokeh references\n",
       "      var cmd = \"from bokeh.io.state import curstate; print(curstate().uuid_to_server['\" + server_id + \"'].get_sessions()[0].document.roots[0]._id)\";\n",
       "      cell.notebook.kernel.execute(cmd, {\n",
       "        iopub: {\n",
       "          output: function(msg) {\n",
       "            var element_id = msg.content.text.trim();\n",
       "            Bokeh.index[element_id].model.document.clear();\n",
       "            delete Bokeh.index[element_id];\n",
       "          }\n",
       "        }\n",
       "      });\n",
       "      // Destroy server and session\n",
       "      var cmd = \"import bokeh.io.notebook as ion; ion.destroy_server('\" + server_id + \"')\";\n",
       "      cell.notebook.kernel.execute(cmd);\n",
       "    }\n",
       "  }\n",
       "\n",
       "  /**\n",
       "   * Handle when a new output is added\n",
       "   */\n",
       "  function handleAddOutput(event, handle) {\n",
       "    var output_area = handle.output_area;\n",
       "    var output = handle.output;\n",
       "\n",
       "    // limit handleAddOutput to display_data with EXEC_MIME_TYPE content only\n",
       "    if ((output.output_type != \"display_data\") || (!output.data.hasOwnProperty(EXEC_MIME_TYPE))) {\n",
       "      return\n",
       "    }\n",
       "\n",
       "    var toinsert = output_area.element.find(\".\" + CLASS_NAME.split(' ')[0]);\n",
       "\n",
       "    if (output.metadata[EXEC_MIME_TYPE][\"id\"] !== undefined) {\n",
       "      toinsert[0].firstChild.textContent = output.data[JS_MIME_TYPE];\n",
       "      // store reference to embed id on output_area\n",
       "      output_area._bokeh_element_id = output.metadata[EXEC_MIME_TYPE][\"id\"];\n",
       "    }\n",
       "    if (output.metadata[EXEC_MIME_TYPE][\"server_id\"] !== undefined) {\n",
       "      var bk_div = document.createElement(\"div\");\n",
       "      bk_div.innerHTML = output.data[HTML_MIME_TYPE];\n",
       "      var script_attrs = bk_div.children[0].attributes;\n",
       "      for (var i = 0; i < script_attrs.length; i++) {\n",
       "        toinsert[0].firstChild.setAttribute(script_attrs[i].name, script_attrs[i].value);\n",
       "      }\n",
       "      // store reference to server id on output_area\n",
       "      output_area._bokeh_server_id = output.metadata[EXEC_MIME_TYPE][\"server_id\"];\n",
       "    }\n",
       "  }\n",
       "\n",
       "  function register_renderer(events, OutputArea) {\n",
       "\n",
       "    function append_mime(data, metadata, element) {\n",
       "      // create a DOM node to render to\n",
       "      var toinsert = this.create_output_subarea(\n",
       "        metadata,\n",
       "        CLASS_NAME,\n",
       "        EXEC_MIME_TYPE\n",
       "      );\n",
       "      this.keyboard_manager.register_events(toinsert);\n",
       "      // Render to node\n",
       "      var props = {data: data, metadata: metadata[EXEC_MIME_TYPE]};\n",
       "      render(props, toinsert[0]);\n",
       "      element.append(toinsert);\n",
       "      return toinsert\n",
       "    }\n",
       "\n",
       "    /* Handle when an output is cleared or removed */\n",
       "    events.on('clear_output.CodeCell', handleClearOutput);\n",
       "    events.on('delete.Cell', handleClearOutput);\n",
       "\n",
       "    /* Handle when a new output is added */\n",
       "    events.on('output_added.OutputArea', handleAddOutput);\n",
       "\n",
       "    /**\n",
       "     * Register the mime type and append_mime function with output_area\n",
       "     */\n",
       "    OutputArea.prototype.register_mime_type(EXEC_MIME_TYPE, append_mime, {\n",
       "      /* Is output safe? */\n",
       "      safe: true,\n",
       "      /* Index of renderer in `output_area.display_order` */\n",
       "      index: 0\n",
       "    });\n",
       "  }\n",
       "\n",
       "  // register the mime type if in Jupyter Notebook environment and previously unregistered\n",
       "  if (root.Jupyter !== undefined) {\n",
       "    var events = require('base/js/events');\n",
       "    var OutputArea = require('notebook/js/outputarea').OutputArea;\n",
       "\n",
       "    if (OutputArea.prototype.mime_types().indexOf(EXEC_MIME_TYPE) == -1) {\n",
       "      register_renderer(events, OutputArea);\n",
       "    }\n",
       "  }\n",
       "\n",
       "  \n",
       "  if (typeof (root._bokeh_timeout) === \"undefined\" || force === true) {\n",
       "    root._bokeh_timeout = Date.now() + 5000;\n",
       "    root._bokeh_failed_load = false;\n",
       "  }\n",
       "\n",
       "  var NB_LOAD_WARNING = {'data': {'text/html':\n",
       "     \"<div style='background-color: #fdd'>\\n\"+\n",
       "     \"<p>\\n\"+\n",
       "     \"BokehJS does not appear to have successfully loaded. If loading BokehJS from CDN, this \\n\"+\n",
       "     \"may be due to a slow or bad network connection. Possible fixes:\\n\"+\n",
       "     \"</p>\\n\"+\n",
       "     \"<ul>\\n\"+\n",
       "     \"<li>re-rerun `output_notebook()` to attempt to load from CDN again, or</li>\\n\"+\n",
       "     \"<li>use INLINE resources instead, as so:</li>\\n\"+\n",
       "     \"</ul>\\n\"+\n",
       "     \"<code>\\n\"+\n",
       "     \"from bokeh.resources import INLINE\\n\"+\n",
       "     \"output_notebook(resources=INLINE)\\n\"+\n",
       "     \"</code>\\n\"+\n",
       "     \"</div>\"}};\n",
       "\n",
       "  function display_loaded() {\n",
       "    var el = document.getElementById(\"5c3a14aa-5575-427a-8b2f-95ba7be78127\");\n",
       "    if (el != null) {\n",
       "      el.textContent = \"BokehJS is loading...\";\n",
       "    }\n",
       "    if (root.Bokeh !== undefined) {\n",
       "      if (el != null) {\n",
       "        el.textContent = \"BokehJS \" + root.Bokeh.version + \" successfully loaded.\";\n",
       "      }\n",
       "    } else if (Date.now() < root._bokeh_timeout) {\n",
       "      setTimeout(display_loaded, 100)\n",
       "    }\n",
       "  }\n",
       "\n",
       "\n",
       "  function run_callbacks() {\n",
       "    try {\n",
       "      root._bokeh_onload_callbacks.forEach(function(callback) { callback() });\n",
       "    }\n",
       "    finally {\n",
       "      delete root._bokeh_onload_callbacks\n",
       "    }\n",
       "    console.info(\"Bokeh: all callbacks have finished\");\n",
       "  }\n",
       "\n",
       "  function load_libs(js_urls, callback) {\n",
       "    root._bokeh_onload_callbacks.push(callback);\n",
       "    if (root._bokeh_is_loading > 0) {\n",
       "      console.log(\"Bokeh: BokehJS is being loaded, scheduling callback at\", now());\n",
       "      return null;\n",
       "    }\n",
       "    if (js_urls == null || js_urls.length === 0) {\n",
       "      run_callbacks();\n",
       "      return null;\n",
       "    }\n",
       "    console.log(\"Bokeh: BokehJS not loaded, scheduling load and callback at\", now());\n",
       "    root._bokeh_is_loading = js_urls.length;\n",
       "    for (var i = 0; i < js_urls.length; i++) {\n",
       "      var url = js_urls[i];\n",
       "      var s = document.createElement('script');\n",
       "      s.src = url;\n",
       "      s.async = false;\n",
       "      s.onreadystatechange = s.onload = function() {\n",
       "        root._bokeh_is_loading--;\n",
       "        if (root._bokeh_is_loading === 0) {\n",
       "          console.log(\"Bokeh: all BokehJS libraries loaded\");\n",
       "          run_callbacks()\n",
       "        }\n",
       "      };\n",
       "      s.onerror = function() {\n",
       "        console.warn(\"failed to load library \" + url);\n",
       "      };\n",
       "      console.log(\"Bokeh: injecting script tag for BokehJS library: \", url);\n",
       "      document.getElementsByTagName(\"head\")[0].appendChild(s);\n",
       "    }\n",
       "  };var element = document.getElementById(\"5c3a14aa-5575-427a-8b2f-95ba7be78127\");\n",
       "  if (element == null) {\n",
       "    console.log(\"Bokeh: ERROR: autoload.js configured with elementid '5c3a14aa-5575-427a-8b2f-95ba7be78127' but no matching script tag was found. \")\n",
       "    return false;\n",
       "  }\n",
       "\n",
       "  var js_urls = [\"https://cdn.pydata.org/bokeh/release/bokeh-0.12.13.min.js\", \"https://cdn.pydata.org/bokeh/release/bokeh-widgets-0.12.13.min.js\", \"https://cdn.pydata.org/bokeh/release/bokeh-tables-0.12.13.min.js\", \"https://cdn.pydata.org/bokeh/release/bokeh-gl-0.12.13.min.js\"];\n",
       "\n",
       "  var inline_js = [\n",
       "    function(Bokeh) {\n",
       "      Bokeh.set_log_level(\"info\");\n",
       "    },\n",
       "    \n",
       "    function(Bokeh) {\n",
       "      \n",
       "    },\n",
       "    function(Bokeh) {\n",
       "      console.log(\"Bokeh: injecting CSS: https://cdn.pydata.org/bokeh/release/bokeh-0.12.13.min.css\");\n",
       "      Bokeh.embed.inject_css(\"https://cdn.pydata.org/bokeh/release/bokeh-0.12.13.min.css\");\n",
       "      console.log(\"Bokeh: injecting CSS: https://cdn.pydata.org/bokeh/release/bokeh-widgets-0.12.13.min.css\");\n",
       "      Bokeh.embed.inject_css(\"https://cdn.pydata.org/bokeh/release/bokeh-widgets-0.12.13.min.css\");\n",
       "      console.log(\"Bokeh: injecting CSS: https://cdn.pydata.org/bokeh/release/bokeh-tables-0.12.13.min.css\");\n",
       "      Bokeh.embed.inject_css(\"https://cdn.pydata.org/bokeh/release/bokeh-tables-0.12.13.min.css\");\n",
       "    }\n",
       "  ];\n",
       "\n",
       "  function run_inline_js() {\n",
       "    \n",
       "    if ((root.Bokeh !== undefined) || (force === true)) {\n",
       "      for (var i = 0; i < inline_js.length; i++) {\n",
       "        inline_js[i].call(root, root.Bokeh);\n",
       "      }if (force === true) {\n",
       "        display_loaded();\n",
       "      }} else if (Date.now() < root._bokeh_timeout) {\n",
       "      setTimeout(run_inline_js, 100);\n",
       "    } else if (!root._bokeh_failed_load) {\n",
       "      console.log(\"Bokeh: BokehJS failed to load within specified timeout.\");\n",
       "      root._bokeh_failed_load = true;\n",
       "    } else if (force !== true) {\n",
       "      var cell = $(document.getElementById(\"5c3a14aa-5575-427a-8b2f-95ba7be78127\")).parents('.cell').data().cell;\n",
       "      cell.output_area.append_execute_result(NB_LOAD_WARNING)\n",
       "    }\n",
       "\n",
       "  }\n",
       "\n",
       "  if (root._bokeh_is_loading === 0) {\n",
       "    console.log(\"Bokeh: BokehJS loaded, going straight to plotting\");\n",
       "    run_inline_js();\n",
       "  } else {\n",
       "    load_libs(js_urls, function() {\n",
       "      console.log(\"Bokeh: BokehJS plotting callback run at\", now());\n",
       "      run_inline_js();\n",
       "    });\n",
       "  }\n",
       "}(window));"
      ],
      "application/vnd.bokehjs_load.v0+json": "\n(function(root) {\n  function now() {\n    return new Date();\n  }\n\n  var force = true;\n\n  if (typeof (root._bokeh_onload_callbacks) === \"undefined\" || force === true) {\n    root._bokeh_onload_callbacks = [];\n    root._bokeh_is_loading = undefined;\n  }\n\n  \n\n  \n  if (typeof (root._bokeh_timeout) === \"undefined\" || force === true) {\n    root._bokeh_timeout = Date.now() + 5000;\n    root._bokeh_failed_load = false;\n  }\n\n  var NB_LOAD_WARNING = {'data': {'text/html':\n     \"<div style='background-color: #fdd'>\\n\"+\n     \"<p>\\n\"+\n     \"BokehJS does not appear to have successfully loaded. If loading BokehJS from CDN, this \\n\"+\n     \"may be due to a slow or bad network connection. Possible fixes:\\n\"+\n     \"</p>\\n\"+\n     \"<ul>\\n\"+\n     \"<li>re-rerun `output_notebook()` to attempt to load from CDN again, or</li>\\n\"+\n     \"<li>use INLINE resources instead, as so:</li>\\n\"+\n     \"</ul>\\n\"+\n     \"<code>\\n\"+\n     \"from bokeh.resources import INLINE\\n\"+\n     \"output_notebook(resources=INLINE)\\n\"+\n     \"</code>\\n\"+\n     \"</div>\"}};\n\n  function display_loaded() {\n    var el = document.getElementById(\"5c3a14aa-5575-427a-8b2f-95ba7be78127\");\n    if (el != null) {\n      el.textContent = \"BokehJS is loading...\";\n    }\n    if (root.Bokeh !== undefined) {\n      if (el != null) {\n        el.textContent = \"BokehJS \" + root.Bokeh.version + \" successfully loaded.\";\n      }\n    } else if (Date.now() < root._bokeh_timeout) {\n      setTimeout(display_loaded, 100)\n    }\n  }\n\n\n  function run_callbacks() {\n    try {\n      root._bokeh_onload_callbacks.forEach(function(callback) { callback() });\n    }\n    finally {\n      delete root._bokeh_onload_callbacks\n    }\n    console.info(\"Bokeh: all callbacks have finished\");\n  }\n\n  function load_libs(js_urls, callback) {\n    root._bokeh_onload_callbacks.push(callback);\n    if (root._bokeh_is_loading > 0) {\n      console.log(\"Bokeh: BokehJS is being loaded, scheduling callback at\", now());\n      return null;\n    }\n    if (js_urls == null || js_urls.length === 0) {\n      run_callbacks();\n      return null;\n    }\n    console.log(\"Bokeh: BokehJS not loaded, scheduling load and callback at\", now());\n    root._bokeh_is_loading = js_urls.length;\n    for (var i = 0; i < js_urls.length; i++) {\n      var url = js_urls[i];\n      var s = document.createElement('script');\n      s.src = url;\n      s.async = false;\n      s.onreadystatechange = s.onload = function() {\n        root._bokeh_is_loading--;\n        if (root._bokeh_is_loading === 0) {\n          console.log(\"Bokeh: all BokehJS libraries loaded\");\n          run_callbacks()\n        }\n      };\n      s.onerror = function() {\n        console.warn(\"failed to load library \" + url);\n      };\n      console.log(\"Bokeh: injecting script tag for BokehJS library: \", url);\n      document.getElementsByTagName(\"head\")[0].appendChild(s);\n    }\n  };var element = document.getElementById(\"5c3a14aa-5575-427a-8b2f-95ba7be78127\");\n  if (element == null) {\n    console.log(\"Bokeh: ERROR: autoload.js configured with elementid '5c3a14aa-5575-427a-8b2f-95ba7be78127' but no matching script tag was found. \")\n    return false;\n  }\n\n  var js_urls = [\"https://cdn.pydata.org/bokeh/release/bokeh-0.12.13.min.js\", \"https://cdn.pydata.org/bokeh/release/bokeh-widgets-0.12.13.min.js\", \"https://cdn.pydata.org/bokeh/release/bokeh-tables-0.12.13.min.js\", \"https://cdn.pydata.org/bokeh/release/bokeh-gl-0.12.13.min.js\"];\n\n  var inline_js = [\n    function(Bokeh) {\n      Bokeh.set_log_level(\"info\");\n    },\n    \n    function(Bokeh) {\n      \n    },\n    function(Bokeh) {\n      console.log(\"Bokeh: injecting CSS: https://cdn.pydata.org/bokeh/release/bokeh-0.12.13.min.css\");\n      Bokeh.embed.inject_css(\"https://cdn.pydata.org/bokeh/release/bokeh-0.12.13.min.css\");\n      console.log(\"Bokeh: injecting CSS: https://cdn.pydata.org/bokeh/release/bokeh-widgets-0.12.13.min.css\");\n      Bokeh.embed.inject_css(\"https://cdn.pydata.org/bokeh/release/bokeh-widgets-0.12.13.min.css\");\n      console.log(\"Bokeh: injecting CSS: https://cdn.pydata.org/bokeh/release/bokeh-tables-0.12.13.min.css\");\n      Bokeh.embed.inject_css(\"https://cdn.pydata.org/bokeh/release/bokeh-tables-0.12.13.min.css\");\n    }\n  ];\n\n  function run_inline_js() {\n    \n    if ((root.Bokeh !== undefined) || (force === true)) {\n      for (var i = 0; i < inline_js.length; i++) {\n        inline_js[i].call(root, root.Bokeh);\n      }if (force === true) {\n        display_loaded();\n      }} else if (Date.now() < root._bokeh_timeout) {\n      setTimeout(run_inline_js, 100);\n    } else if (!root._bokeh_failed_load) {\n      console.log(\"Bokeh: BokehJS failed to load within specified timeout.\");\n      root._bokeh_failed_load = true;\n    } else if (force !== true) {\n      var cell = $(document.getElementById(\"5c3a14aa-5575-427a-8b2f-95ba7be78127\")).parents('.cell').data().cell;\n      cell.output_area.append_execute_result(NB_LOAD_WARNING)\n    }\n\n  }\n\n  if (root._bokeh_is_loading === 0) {\n    console.log(\"Bokeh: BokehJS loaded, going straight to plotting\");\n    run_inline_js();\n  } else {\n    load_libs(js_urls, function() {\n      console.log(\"Bokeh: BokehJS plotting callback run at\", now());\n      run_inline_js();\n    });\n  }\n}(window));"
     },
     "metadata": {},
     "output_type": "display_data"
    }
   ],
   "source": [
    "from bokeh.io import output_file,show,output_notebook,push_notebook\n",
    "from bokeh.plotting import figure\n",
    "from bokeh.models import ColumnDataSource,HoverTool,CategoricalColorMapper\n",
    "from bokeh.layouts import row,column,gridplot\n",
    "from bokeh.models.widgets import Tabs,Panel\n",
    "output_notebook()"
   ]
  },
  {
   "cell_type": "code",
   "execution_count": 23,
   "metadata": {},
   "outputs": [
    {
     "name": "stdout",
     "output_type": "stream",
     "text": [
      "Country\n",
      "Afghanistan    4.000000\n",
      "Albania        2.641026\n",
      "Algeria        4.541333\n",
      "Andorra        3.750000\n",
      "Angola         6.600000\n",
      "Name: Price, dtype: float64\n"
     ]
    }
   ],
   "source": [
    "price_mean = project3.groupby('Country').Price.mean()\n",
    "print(price_mean.head())\n",
    "\n"
   ]
  },
  {
   "cell_type": "code",
   "execution_count": null,
   "metadata": {},
   "outputs": [],
   "source": []
  },
  {
   "cell_type": "code",
   "execution_count": 24,
   "metadata": {},
   "outputs": [
    {
     "data": {
      "text/plain": [
       "3.8568582027896126"
      ]
     },
     "execution_count": 24,
     "metadata": {},
     "output_type": "execute_result"
    }
   ],
   "source": [
    "project3.Price.mean() # get the mean of price "
   ]
  },
  {
   "cell_type": "code",
   "execution_count": 25,
   "metadata": {},
   "outputs": [
    {
     "data": {
      "text/plain": [
       "1     751\n",
       "2     340\n",
       "3     210\n",
       "7     183\n",
       "6     181\n",
       "4     176\n",
       "5     167\n",
       "10    136\n",
       "8     105\n",
       "9      85\n",
       "Name: Price, dtype: int64"
      ]
     },
     "execution_count": 25,
     "metadata": {},
     "output_type": "execute_result"
    }
   ],
   "source": [
    "India = project3[(project3.Country == 'India')]\n",
    "India_Price = India['Price'].astype(int)\n",
    "India_count = India_Price.value_counts()\n",
    "India_count\n"
   ]
  },
  {
   "cell_type": "code",
   "execution_count": 26,
   "metadata": {},
   "outputs": [
    {
     "data": {
      "text/plain": [
       "[1, 2, 3, 7, 6, 4, 5, 10, 8, 9]"
      ]
     },
     "execution_count": 26,
     "metadata": {},
     "output_type": "execute_result"
    }
   ],
   "source": [
    "list1 = list(India_count.keys().values)\n",
    "list1\n"
   ]
  },
  {
   "cell_type": "code",
   "execution_count": 27,
   "metadata": {},
   "outputs": [
    {
     "data": {
      "text/plain": [
       "[751, 340, 210, 183, 181, 176, 167, 136, 105, 85]"
      ]
     },
     "execution_count": 27,
     "metadata": {},
     "output_type": "execute_result"
    }
   ],
   "source": [
    "list2 = list(India_count.values)\n",
    "list2"
   ]
  },
  {
   "cell_type": "code",
   "execution_count": 28,
   "metadata": {},
   "outputs": [
    {
     "data": {
      "text/plain": [
       "{1: 751,\n",
       " 2: 340,\n",
       " 3: 210,\n",
       " 4: 176,\n",
       " 5: 167,\n",
       " 6: 181,\n",
       " 7: 183,\n",
       " 8: 105,\n",
       " 9: 85,\n",
       " 10: 136}"
      ]
     },
     "execution_count": 28,
     "metadata": {},
     "output_type": "execute_result"
    }
   ],
   "source": [
    "# convert list to dict\n",
    "India_dict = dict(zip(list1,list2))\n",
    "India_dict"
   ]
  },
  {
   "cell_type": "code",
   "execution_count": 29,
   "metadata": {},
   "outputs": [
    {
     "name": "stderr",
     "output_type": "stream",
     "text": [
      "/Users/yifanli/anaconda3/lib/python3.6/site-packages/bokeh/core/json_encoder.py:80: FutureWarning: Conversion of the second argument of issubdtype from `float` to `np.floating` is deprecated. In future, it will be treated as `np.float64 == np.dtype(float).type`.\n",
      "  elif np.issubdtype(type(obj), np.float):\n"
     ]
    },
    {
     "data": {
      "text/html": [
       "\n",
       "<div class=\"bk-root\">\n",
       "    <div class=\"bk-plotdiv\" id=\"cb9f59fb-f7c0-467f-bd96-814df249843d\"></div>\n",
       "</div>"
      ]
     },
     "metadata": {},
     "output_type": "display_data"
    },
    {
     "data": {
      "application/javascript": [
       "(function(root) {\n",
       "  function embed_document(root) {\n",
       "    \n",
       "  var docs_json = {\"5450f8ea-66a9-4cc1-90f7-3278519c7641\":{\"roots\":{\"references\":[{\"attributes\":{\"plot\":null,\"text\":\"Link Name count\"},\"id\":\"dad798dd-7173-47e1-95d8-f501a04f396f\",\"type\":\"Title\"},{\"attributes\":{},\"id\":\"a5d43e1b-d930-4f80-b443-79f35d287575\",\"type\":\"BasicTickFormatter\"},{\"attributes\":{\"below\":[{\"id\":\"eb252d06-ea67-4c91-821e-baee9a2f6a2f\",\"type\":\"LinearAxis\"}],\"left\":[{\"id\":\"87bcdd24-591d-483e-a1e5-87ce3e932d6f\",\"type\":\"LinearAxis\"}],\"plot_height\":400,\"plot_width\":400,\"renderers\":[{\"id\":\"eb252d06-ea67-4c91-821e-baee9a2f6a2f\",\"type\":\"LinearAxis\"},{\"id\":\"ad62cded-0baf-4c37-acb5-de7a32b920c1\",\"type\":\"Grid\"},{\"id\":\"87bcdd24-591d-483e-a1e5-87ce3e932d6f\",\"type\":\"LinearAxis\"},{\"id\":\"b9fc0b05-f44a-4942-a873-6d5051f83e16\",\"type\":\"Grid\"},{\"id\":\"76c19602-8cbd-4962-b900-3decf78ef049\",\"type\":\"GlyphRenderer\"},{\"id\":\"ef27e76e-036f-4367-b832-76f3fba742f0\",\"type\":\"GlyphRenderer\"}],\"title\":{\"id\":\"dad798dd-7173-47e1-95d8-f501a04f396f\",\"type\":\"Title\"},\"toolbar\":{\"id\":\"2e602fd5-2bfb-4640-8a15-32e0e49c14db\",\"type\":\"Toolbar\"},\"x_range\":{\"id\":\"6d1dc23b-8e06-4ec5-9b3a-732152a80dfc\",\"type\":\"DataRange1d\"},\"x_scale\":{\"id\":\"bfd8793e-7f87-4b60-af8a-a8651963ff36\",\"type\":\"LinearScale\"},\"y_range\":{\"id\":\"7b187f3d-e8d2-4ccb-952e-297e59931724\",\"type\":\"DataRange1d\"},\"y_scale\":{\"id\":\"44bfe86f-e869-4b3e-9488-5210311c7568\",\"type\":\"LinearScale\"}},\"id\":\"ea469911-333c-4b46-91dc-5fdd1fb33e72\",\"subtype\":\"Figure\",\"type\":\"Plot\"},{\"attributes\":{\"callback\":null,\"column_names\":[\"x\",\"y\"],\"data\":{\"x\":[1,2,3,4,5,6,7,8,9,10],\"y\":[150177,33813,5970,1345,543,396,212,165,32,1]}},\"id\":\"44adf378-e952-4611-b081-2f91ba6cbf72\",\"type\":\"ColumnDataSource\"},{\"attributes\":{\"active_drag\":\"auto\",\"active_inspect\":\"auto\",\"active_scroll\":\"auto\",\"active_tap\":\"auto\",\"tools\":[{\"id\":\"820bf0f6-27c2-4878-82b7-ebb879232185\",\"type\":\"HoverTool\"}]},\"id\":\"2e602fd5-2bfb-4640-8a15-32e0e49c14db\",\"type\":\"Toolbar\"},{\"attributes\":{\"callback\":null},\"id\":\"6d1dc23b-8e06-4ec5-9b3a-732152a80dfc\",\"type\":\"DataRange1d\"},{\"attributes\":{},\"id\":\"5ee2d2fe-9ac4-4ebd-bed5-5f2bb2a4ea21\",\"type\":\"ResetTool\"},{\"attributes\":{\"plot\":{\"id\":\"ea469911-333c-4b46-91dc-5fdd1fb33e72\",\"subtype\":\"Figure\",\"type\":\"Plot\"},\"ticker\":{\"id\":\"ee6802e9-df5c-4fd3-855d-90debab7f442\",\"type\":\"BasicTicker\"}},\"id\":\"ad62cded-0baf-4c37-acb5-de7a32b920c1\",\"type\":\"Grid\"},{\"attributes\":{},\"id\":\"ae633c6b-9fbb-45df-8853-82ae7f784547\",\"type\":\"HelpTool\"},{\"attributes\":{\"callback\":null},\"id\":\"7b187f3d-e8d2-4ccb-952e-297e59931724\",\"type\":\"DataRange1d\"},{\"attributes\":{},\"id\":\"c7b96b6e-35d7-4b25-ba5d-6b783ae9a2c7\",\"type\":\"BasicTickFormatter\"},{\"attributes\":{},\"id\":\"bfd8793e-7f87-4b60-af8a-a8651963ff36\",\"type\":\"LinearScale\"},{\"attributes\":{},\"id\":\"44bfe86f-e869-4b3e-9488-5210311c7568\",\"type\":\"LinearScale\"},{\"attributes\":{},\"id\":\"d0e5b995-c0c1-4328-81fa-0a4c83fb6f93\",\"type\":\"SaveTool\"},{\"attributes\":{\"axis_label\":\"Quantity\",\"formatter\":{\"id\":\"a5d43e1b-d930-4f80-b443-79f35d287575\",\"type\":\"BasicTickFormatter\"},\"plot\":{\"id\":\"ea469911-333c-4b46-91dc-5fdd1fb33e72\",\"subtype\":\"Figure\",\"type\":\"Plot\"},\"ticker\":{\"id\":\"5e1e682c-0165-4a88-acff-2bbb62aa36c5\",\"type\":\"BasicTicker\"}},\"id\":\"87bcdd24-591d-483e-a1e5-87ce3e932d6f\",\"type\":\"LinearAxis\"},{\"attributes\":{\"axis_label\":\"Name Index\",\"formatter\":{\"id\":\"90f47660-3ce0-4d4b-8c5a-8755e7567d3c\",\"type\":\"BasicTickFormatter\"},\"plot\":{\"id\":\"ea469911-333c-4b46-91dc-5fdd1fb33e72\",\"subtype\":\"Figure\",\"type\":\"Plot\"},\"ticker\":{\"id\":\"ee6802e9-df5c-4fd3-855d-90debab7f442\",\"type\":\"BasicTicker\"}},\"id\":\"eb252d06-ea67-4c91-821e-baee9a2f6a2f\",\"type\":\"LinearAxis\"},{\"attributes\":{},\"id\":\"5e1e682c-0165-4a88-acff-2bbb62aa36c5\",\"type\":\"BasicTicker\"},{\"attributes\":{\"dimension\":1,\"plot\":{\"id\":\"ea469911-333c-4b46-91dc-5fdd1fb33e72\",\"subtype\":\"Figure\",\"type\":\"Plot\"},\"ticker\":{\"id\":\"5e1e682c-0165-4a88-acff-2bbb62aa36c5\",\"type\":\"BasicTicker\"}},\"id\":\"b9fc0b05-f44a-4942-a873-6d5051f83e16\",\"type\":\"Grid\"},{\"attributes\":{\"line_color\":\"#1f77b4\",\"line_width\":2,\"x\":{\"field\":\"x\"},\"y\":{\"field\":\"y\"}},\"id\":\"0496731c-972a-4d43-ab2b-2555c75f0a54\",\"type\":\"Line\"},{\"attributes\":{\"callback\":null,\"column_names\":[\"x\",\"y\",\"z\"],\"data\":{\"x\":[\"Snippet\",\"Email\",\"Snippet - Beta\",\"Snippet - Nightly\",\"Snippet - Dev\",\"Blog\",\"Social\",\"Default Link\",\"MozFr community\",\"Hidden Link\"],\"y\":[150177,33813,5970,1345,543,396,212,165,32,1],\"z\":[1,2,3,4,5,6,7,8,9,10]}},\"id\":\"a210606e-5f4e-4ee6-b3c9-d71e986db9e4\",\"type\":\"ColumnDataSource\"},{\"attributes\":{\"line_alpha\":0.1,\"line_color\":\"#1f77b4\",\"line_width\":2,\"x\":{\"field\":\"x\"},\"y\":{\"field\":\"y\"}},\"id\":\"c2079f52-402c-4f2d-b229-47288d550211\",\"type\":\"Line\"},{\"attributes\":{\"data_source\":{\"id\":\"44adf378-e952-4611-b081-2f91ba6cbf72\",\"type\":\"ColumnDataSource\"},\"glyph\":{\"id\":\"0496731c-972a-4d43-ab2b-2555c75f0a54\",\"type\":\"Line\"},\"hover_glyph\":null,\"muted_glyph\":null,\"nonselection_glyph\":{\"id\":\"c2079f52-402c-4f2d-b229-47288d550211\",\"type\":\"Line\"},\"selection_glyph\":null,\"view\":{\"id\":\"5133034d-10b3-4f2a-a8f8-545484844cd2\",\"type\":\"CDSView\"}},\"id\":\"76c19602-8cbd-4962-b900-3decf78ef049\",\"type\":\"GlyphRenderer\"},{\"attributes\":{\"source\":{\"id\":\"44adf378-e952-4611-b081-2f91ba6cbf72\",\"type\":\"ColumnDataSource\"}},\"id\":\"5133034d-10b3-4f2a-a8f8-545484844cd2\",\"type\":\"CDSView\"},{\"attributes\":{\"children\":[{\"id\":\"4b1a6faf-f14c-4255-a4ca-601c7e0bb90c\",\"subtype\":\"Figure\",\"type\":\"Plot\"},{\"id\":\"b62ab921-0e9f-46a4-8abf-8e8ad07733d0\",\"subtype\":\"Figure\",\"type\":\"Plot\"},{\"id\":\"ea469911-333c-4b46-91dc-5fdd1fb33e72\",\"subtype\":\"Figure\",\"type\":\"Plot\"}]},\"id\":\"04ea5d77-84dc-4791-a7cd-386e447adf19\",\"type\":\"Column\"},{\"attributes\":{\"callback\":null},\"id\":\"8af8218a-60d1-4050-a30f-6b73510905be\",\"type\":\"DataRange1d\"},{\"attributes\":{},\"id\":\"90f47660-3ce0-4d4b-8c5a-8755e7567d3c\",\"type\":\"BasicTickFormatter\"},{\"attributes\":{},\"id\":\"ee6802e9-df5c-4fd3-855d-90debab7f442\",\"type\":\"BasicTicker\"},{\"attributes\":{\"callback\":null,\"tooltips\":[[\"Link Name \",\"@x\"],[\"Link Value \",\"@y\"]]},\"id\":\"820bf0f6-27c2-4878-82b7-ebb879232185\",\"type\":\"HoverTool\"},{\"attributes\":{\"fill_color\":{\"value\":\"#1f77b4\"},\"line_color\":{\"value\":\"#1f77b4\"},\"size\":{\"units\":\"screen\",\"value\":10},\"x\":{\"field\":\"z\"},\"y\":{\"field\":\"y\"}},\"id\":\"0e0c9bf9-f74b-4f07-ae19-da05584fcc76\",\"type\":\"Circle\"},{\"attributes\":{\"source\":{\"id\":\"a210606e-5f4e-4ee6-b3c9-d71e986db9e4\",\"type\":\"ColumnDataSource\"}},\"id\":\"d8315661-9014-44af-a87c-51aa19170110\",\"type\":\"CDSView\"},{\"attributes\":{\"callback\":null,\"column_names\":[\"x\",\"y\"],\"data\":{\"x\":[1,2,3,7,6,4,5,10,8,9],\"y\":[751,340,210,183,181,176,167,136,105,85]}},\"id\":\"7f10ae65-c7fe-4fae-9ca0-778eeab26c63\",\"type\":\"ColumnDataSource\"},{\"attributes\":{\"fill_alpha\":{\"value\":0.1},\"fill_color\":{\"value\":\"#1f77b4\"},\"line_alpha\":{\"value\":0.1},\"line_color\":{\"value\":\"#1f77b4\"},\"size\":{\"units\":\"screen\",\"value\":10},\"x\":{\"field\":\"z\"},\"y\":{\"field\":\"y\"}},\"id\":\"1e4aadef-eb25-41cc-bda1-cc9385cfd919\",\"type\":\"Circle\"},{\"attributes\":{\"data_source\":{\"id\":\"a210606e-5f4e-4ee6-b3c9-d71e986db9e4\",\"type\":\"ColumnDataSource\"},\"glyph\":{\"id\":\"0e0c9bf9-f74b-4f07-ae19-da05584fcc76\",\"type\":\"Circle\"},\"hover_glyph\":null,\"muted_glyph\":null,\"nonselection_glyph\":{\"id\":\"1e4aadef-eb25-41cc-bda1-cc9385cfd919\",\"type\":\"Circle\"},\"selection_glyph\":null,\"view\":{\"id\":\"d8315661-9014-44af-a87c-51aa19170110\",\"type\":\"CDSView\"}},\"id\":\"ef27e76e-036f-4367-b832-76f3fba742f0\",\"type\":\"GlyphRenderer\"},{\"attributes\":{\"callback\":null,\"tooltips\":[[\"Price Level \",\"@x\"],[\"Quantity \",\"@y\"],[\"Country\",\"India\"]]},\"id\":\"9fbdbb92-df0a-43c5-9472-f30a0a5b7fb9\",\"type\":\"HoverTool\"},{\"attributes\":{},\"id\":\"aed8f4be-5daa-423b-a8dd-436aa0485d5a\",\"type\":\"BasicTickFormatter\"},{\"attributes\":{\"plot\":null,\"text\":\"India - Price\"},\"id\":\"2ce6f62d-9db0-4cc0-8e90-f0cd594b7242\",\"type\":\"Title\"},{\"attributes\":{\"below\":[{\"id\":\"96eaa8f2-0773-4be0-a300-e3d9a6f20d2a\",\"type\":\"LinearAxis\"}],\"left\":[{\"id\":\"66597338-c310-4123-9096-458edc3f3630\",\"type\":\"LinearAxis\"}],\"plot_height\":400,\"plot_width\":400,\"renderers\":[{\"id\":\"96eaa8f2-0773-4be0-a300-e3d9a6f20d2a\",\"type\":\"LinearAxis\"},{\"id\":\"430b0aad-2466-4d0a-9305-c701dc5b1306\",\"type\":\"Grid\"},{\"id\":\"66597338-c310-4123-9096-458edc3f3630\",\"type\":\"LinearAxis\"},{\"id\":\"5196b5af-36a0-4500-8bd6-c071a427d4e8\",\"type\":\"Grid\"},{\"id\":\"bae35c90-3dcc-4e6a-a9d7-8ee95de895c1\",\"type\":\"BoxAnnotation\"},{\"id\":\"6f396a5b-b51c-46e2-b8b5-8d1093f92b95\",\"type\":\"GlyphRenderer\"}],\"title\":{\"id\":\"8b3e0015-fc0c-47f3-9c25-c12065dc9e2c\",\"type\":\"Title\"},\"toolbar\":{\"id\":\"008e4864-36a9-438f-9f7d-a979bab2368b\",\"type\":\"Toolbar\"},\"x_range\":{\"id\":\"b8d182c4-e768-4888-ada3-f5656a443b64\",\"type\":\"DataRange1d\"},\"x_scale\":{\"id\":\"ed68ab93-1d70-4b94-92e0-4f5d06b39b0b\",\"type\":\"LinearScale\"},\"y_range\":{\"id\":\"9257ffbc-e1c2-4830-ae45-4fab892ec501\",\"type\":\"DataRange1d\"},\"y_scale\":{\"id\":\"0fb9686c-4181-4190-b984-ec3286dddf22\",\"type\":\"LinearScale\"}},\"id\":\"b62ab921-0e9f-46a4-8abf-8e8ad07733d0\",\"subtype\":\"Figure\",\"type\":\"Plot\"},{\"attributes\":{},\"id\":\"35c7c024-972f-41cc-a70a-42fa9d8617c0\",\"type\":\"LinearScale\"},{\"attributes\":{\"callback\":null},\"id\":\"1f72d8d7-84bf-4830-8c92-360658f79b77\",\"type\":\"DataRange1d\"},{\"attributes\":{\"active_drag\":\"auto\",\"active_inspect\":\"auto\",\"active_scroll\":\"auto\",\"active_tap\":\"auto\",\"tools\":[{\"id\":\"9fbdbb92-df0a-43c5-9472-f30a0a5b7fb9\",\"type\":\"HoverTool\"}]},\"id\":\"e54e81a2-29a1-4d2b-983f-29220b542a39\",\"type\":\"Toolbar\"},{\"attributes\":{},\"id\":\"85b9cd4b-94dd-42f3-a895-ceca56683746\",\"type\":\"LinearScale\"},{\"attributes\":{\"below\":[{\"id\":\"271d5139-cc65-44db-906d-4a6291dbd160\",\"type\":\"LinearAxis\"}],\"left\":[{\"id\":\"5a1dc3fd-0083-4089-b6a8-28a3aefb782b\",\"type\":\"LinearAxis\"}],\"plot_height\":400,\"plot_width\":400,\"renderers\":[{\"id\":\"271d5139-cc65-44db-906d-4a6291dbd160\",\"type\":\"LinearAxis\"},{\"id\":\"2b5e402c-24b8-4859-acd1-56d2203a0732\",\"type\":\"Grid\"},{\"id\":\"5a1dc3fd-0083-4089-b6a8-28a3aefb782b\",\"type\":\"LinearAxis\"},{\"id\":\"bd97a582-97a8-4111-875c-10a0d2842eea\",\"type\":\"Grid\"},{\"id\":\"8a22823b-1ff5-4608-bdab-86951eeb68bc\",\"type\":\"GlyphRenderer\"}],\"title\":{\"id\":\"2ce6f62d-9db0-4cc0-8e90-f0cd594b7242\",\"type\":\"Title\"},\"toolbar\":{\"id\":\"e54e81a2-29a1-4d2b-983f-29220b542a39\",\"type\":\"Toolbar\"},\"x_range\":{\"id\":\"1f72d8d7-84bf-4830-8c92-360658f79b77\",\"type\":\"DataRange1d\"},\"x_scale\":{\"id\":\"35c7c024-972f-41cc-a70a-42fa9d8617c0\",\"type\":\"LinearScale\"},\"y_range\":{\"id\":\"8af8218a-60d1-4050-a30f-6b73510905be\",\"type\":\"DataRange1d\"},\"y_scale\":{\"id\":\"85b9cd4b-94dd-42f3-a895-ceca56683746\",\"type\":\"LinearScale\"}},\"id\":\"4b1a6faf-f14c-4255-a4ca-601c7e0bb90c\",\"subtype\":\"Figure\",\"type\":\"Plot\"},{\"attributes\":{\"fill_alpha\":{\"value\":0.1},\"fill_color\":{\"value\":\"#1f77b4\"},\"line_alpha\":{\"value\":0.1},\"line_color\":{\"value\":\"#1f77b4\"},\"top\":{\"field\":\"top\"},\"width\":{\"value\":0.5},\"x\":{\"field\":\"x\"}},\"id\":\"8dcc66f9-92c7-402b-bdf1-424bbf0bb7af\",\"type\":\"VBar\"},{\"attributes\":{\"axis_label\":\"Quantity\",\"formatter\":{\"id\":\"aed8f4be-5daa-423b-a8dd-436aa0485d5a\",\"type\":\"BasicTickFormatter\"},\"plot\":{\"id\":\"4b1a6faf-f14c-4255-a4ca-601c7e0bb90c\",\"subtype\":\"Figure\",\"type\":\"Plot\"},\"ticker\":{\"id\":\"117a9112-9c4a-441e-8122-2210cb19abc4\",\"type\":\"BasicTicker\"}},\"id\":\"5a1dc3fd-0083-4089-b6a8-28a3aefb782b\",\"type\":\"LinearAxis\"},{\"attributes\":{\"plot\":{\"id\":\"4b1a6faf-f14c-4255-a4ca-601c7e0bb90c\",\"subtype\":\"Figure\",\"type\":\"Plot\"},\"ticker\":{\"id\":\"389752d6-6857-4df5-8af8-768d8510024c\",\"type\":\"BasicTicker\"}},\"id\":\"2b5e402c-24b8-4859-acd1-56d2203a0732\",\"type\":\"Grid\"},{\"attributes\":{\"axis_label\":\"Price Level\",\"formatter\":{\"id\":\"8b45ec36-d494-40f8-8c11-ea3977e6f6e1\",\"type\":\"BasicTickFormatter\"},\"plot\":{\"id\":\"4b1a6faf-f14c-4255-a4ca-601c7e0bb90c\",\"subtype\":\"Figure\",\"type\":\"Plot\"},\"ticker\":{\"id\":\"389752d6-6857-4df5-8af8-768d8510024c\",\"type\":\"BasicTicker\"}},\"id\":\"271d5139-cc65-44db-906d-4a6291dbd160\",\"type\":\"LinearAxis\"},{\"attributes\":{},\"id\":\"389752d6-6857-4df5-8af8-768d8510024c\",\"type\":\"BasicTicker\"},{\"attributes\":{\"fill_alpha\":{\"value\":0.1},\"fill_color\":{\"value\":\"#1f77b4\"},\"line_alpha\":{\"value\":0.1},\"line_color\":{\"value\":\"#1f77b4\"},\"size\":{\"units\":\"screen\",\"value\":7},\"x\":{\"field\":\"x\"},\"y\":{\"field\":\"y\"}},\"id\":\"eca69bab-ad9f-4552-bdaf-d8f25afe0848\",\"type\":\"Circle\"},{\"attributes\":{},\"id\":\"117a9112-9c4a-441e-8122-2210cb19abc4\",\"type\":\"BasicTicker\"},{\"attributes\":{\"dimension\":1,\"plot\":{\"id\":\"4b1a6faf-f14c-4255-a4ca-601c7e0bb90c\",\"subtype\":\"Figure\",\"type\":\"Plot\"},\"ticker\":{\"id\":\"117a9112-9c4a-441e-8122-2210cb19abc4\",\"type\":\"BasicTicker\"}},\"id\":\"bd97a582-97a8-4111-875c-10a0d2842eea\",\"type\":\"Grid\"},{\"attributes\":{\"data_source\":{\"id\":\"b91c93e4-e7cf-4745-9a4b-021a7cbd9667\",\"type\":\"ColumnDataSource\"},\"glyph\":{\"id\":\"ce35cadf-4a1a-401b-9736-be890be7b46e\",\"type\":\"VBar\"},\"hover_glyph\":null,\"muted_glyph\":null,\"nonselection_glyph\":{\"id\":\"8dcc66f9-92c7-402b-bdf1-424bbf0bb7af\",\"type\":\"VBar\"},\"selection_glyph\":null,\"view\":{\"id\":\"01cd17e4-1cd4-4233-a361-6d16deecc64f\",\"type\":\"CDSView\"}},\"id\":\"6f396a5b-b51c-46e2-b8b5-8d1093f92b95\",\"type\":\"GlyphRenderer\"},{\"attributes\":{\"fill_color\":{\"value\":\"#1f77b4\"},\"line_color\":{\"value\":\"#1f77b4\"},\"size\":{\"units\":\"screen\",\"value\":7},\"x\":{\"field\":\"x\"},\"y\":{\"field\":\"y\"}},\"id\":\"cc0540b5-ff39-437d-81a2-b7453a659070\",\"type\":\"Circle\"},{\"attributes\":{\"data_source\":{\"id\":\"7f10ae65-c7fe-4fae-9ca0-778eeab26c63\",\"type\":\"ColumnDataSource\"},\"glyph\":{\"id\":\"cc0540b5-ff39-437d-81a2-b7453a659070\",\"type\":\"Circle\"},\"hover_glyph\":null,\"muted_glyph\":null,\"nonselection_glyph\":{\"id\":\"eca69bab-ad9f-4552-bdaf-d8f25afe0848\",\"type\":\"Circle\"},\"selection_glyph\":null,\"view\":{\"id\":\"e8b6fdf2-68f6-4b75-941f-ed572f7db0c9\",\"type\":\"CDSView\"}},\"id\":\"8a22823b-1ff5-4608-bdab-86951eeb68bc\",\"type\":\"GlyphRenderer\"},{\"attributes\":{\"callback\":null,\"column_names\":[\"x\",\"top\"],\"data\":{\"top\":[751,340,210,183,181,176,167,136,105,85],\"x\":[1,2,3,7,6,4,5,10,8,9]}},\"id\":\"b91c93e4-e7cf-4745-9a4b-021a7cbd9667\",\"type\":\"ColumnDataSource\"},{\"attributes\":{\"source\":{\"id\":\"7f10ae65-c7fe-4fae-9ca0-778eeab26c63\",\"type\":\"ColumnDataSource\"}},\"id\":\"e8b6fdf2-68f6-4b75-941f-ed572f7db0c9\",\"type\":\"CDSView\"},{\"attributes\":{},\"id\":\"a04e69bd-48ab-4bfd-8790-7381c15a4eb6\",\"type\":\"BasicTickFormatter\"},{\"attributes\":{},\"id\":\"8b45ec36-d494-40f8-8c11-ea3977e6f6e1\",\"type\":\"BasicTickFormatter\"},{\"attributes\":{},\"id\":\"ed68ab93-1d70-4b94-92e0-4f5d06b39b0b\",\"type\":\"LinearScale\"},{\"attributes\":{\"plot\":null,\"text\":\"India - Price\"},\"id\":\"8b3e0015-fc0c-47f3-9c25-c12065dc9e2c\",\"type\":\"Title\"},{\"attributes\":{\"callback\":null},\"id\":\"b8d182c4-e768-4888-ada3-f5656a443b64\",\"type\":\"DataRange1d\"},{\"attributes\":{},\"id\":\"0fb9686c-4181-4190-b984-ec3286dddf22\",\"type\":\"LinearScale\"},{\"attributes\":{\"plot\":{\"id\":\"b62ab921-0e9f-46a4-8abf-8e8ad07733d0\",\"subtype\":\"Figure\",\"type\":\"Plot\"},\"ticker\":{\"id\":\"2c382c3c-721e-4944-8321-072ad80cc733\",\"type\":\"BasicTicker\"}},\"id\":\"430b0aad-2466-4d0a-9305-c701dc5b1306\",\"type\":\"Grid\"},{\"attributes\":{\"active_drag\":\"auto\",\"active_inspect\":\"auto\",\"active_scroll\":\"auto\",\"active_tap\":\"auto\",\"tools\":[{\"id\":\"8e40079b-3ba2-4225-9515-a6c332019737\",\"type\":\"PanTool\"},{\"id\":\"828e6c0b-90c1-4597-a8c6-26650fa23774\",\"type\":\"WheelZoomTool\"},{\"id\":\"c44d6832-a818-414c-af11-190120d77614\",\"type\":\"BoxZoomTool\"},{\"id\":\"d0e5b995-c0c1-4328-81fa-0a4c83fb6f93\",\"type\":\"SaveTool\"},{\"id\":\"5ee2d2fe-9ac4-4ebd-bed5-5f2bb2a4ea21\",\"type\":\"ResetTool\"},{\"id\":\"ae633c6b-9fbb-45df-8853-82ae7f784547\",\"type\":\"HelpTool\"}]},\"id\":\"008e4864-36a9-438f-9f7d-a979bab2368b\",\"type\":\"Toolbar\"},{\"attributes\":{\"callback\":null},\"id\":\"9257ffbc-e1c2-4830-ae45-4fab892ec501\",\"type\":\"DataRange1d\"},{\"attributes\":{\"axis_label\":\"Price Level\",\"formatter\":{\"id\":\"c7b96b6e-35d7-4b25-ba5d-6b783ae9a2c7\",\"type\":\"BasicTickFormatter\"},\"plot\":{\"id\":\"b62ab921-0e9f-46a4-8abf-8e8ad07733d0\",\"subtype\":\"Figure\",\"type\":\"Plot\"},\"ticker\":{\"id\":\"2c382c3c-721e-4944-8321-072ad80cc733\",\"type\":\"BasicTicker\"}},\"id\":\"96eaa8f2-0773-4be0-a300-e3d9a6f20d2a\",\"type\":\"LinearAxis\"},{\"attributes\":{},\"id\":\"2c382c3c-721e-4944-8321-072ad80cc733\",\"type\":\"BasicTicker\"},{\"attributes\":{\"dimension\":1,\"plot\":{\"id\":\"b62ab921-0e9f-46a4-8abf-8e8ad07733d0\",\"subtype\":\"Figure\",\"type\":\"Plot\"},\"ticker\":{\"id\":\"b6938eb8-03b1-43bf-9661-a41369ad9716\",\"type\":\"BasicTicker\"}},\"id\":\"5196b5af-36a0-4500-8bd6-c071a427d4e8\",\"type\":\"Grid\"},{\"attributes\":{\"axis_label\":\"Quantity\",\"formatter\":{\"id\":\"a04e69bd-48ab-4bfd-8790-7381c15a4eb6\",\"type\":\"BasicTickFormatter\"},\"plot\":{\"id\":\"b62ab921-0e9f-46a4-8abf-8e8ad07733d0\",\"subtype\":\"Figure\",\"type\":\"Plot\"},\"ticker\":{\"id\":\"b6938eb8-03b1-43bf-9661-a41369ad9716\",\"type\":\"BasicTicker\"}},\"id\":\"66597338-c310-4123-9096-458edc3f3630\",\"type\":\"LinearAxis\"},{\"attributes\":{},\"id\":\"b6938eb8-03b1-43bf-9661-a41369ad9716\",\"type\":\"BasicTicker\"},{\"attributes\":{\"fill_color\":{\"value\":\"blue\"},\"line_color\":{\"value\":\"blue\"},\"top\":{\"field\":\"top\"},\"width\":{\"value\":0.5},\"x\":{\"field\":\"x\"}},\"id\":\"ce35cadf-4a1a-401b-9736-be890be7b46e\",\"type\":\"VBar\"},{\"attributes\":{\"bottom_units\":\"screen\",\"fill_alpha\":{\"value\":0.5},\"fill_color\":{\"value\":\"lightgrey\"},\"left_units\":\"screen\",\"level\":\"overlay\",\"line_alpha\":{\"value\":1.0},\"line_color\":{\"value\":\"black\"},\"line_dash\":[4,4],\"line_width\":{\"value\":2},\"plot\":null,\"render_mode\":\"css\",\"right_units\":\"screen\",\"top_units\":\"screen\"},\"id\":\"bae35c90-3dcc-4e6a-a9d7-8ee95de895c1\",\"type\":\"BoxAnnotation\"},{\"attributes\":{},\"id\":\"8e40079b-3ba2-4225-9515-a6c332019737\",\"type\":\"PanTool\"},{\"attributes\":{\"source\":{\"id\":\"b91c93e4-e7cf-4745-9a4b-021a7cbd9667\",\"type\":\"ColumnDataSource\"}},\"id\":\"01cd17e4-1cd4-4233-a361-6d16deecc64f\",\"type\":\"CDSView\"},{\"attributes\":{},\"id\":\"828e6c0b-90c1-4597-a8c6-26650fa23774\",\"type\":\"WheelZoomTool\"},{\"attributes\":{\"overlay\":{\"id\":\"bae35c90-3dcc-4e6a-a9d7-8ee95de895c1\",\"type\":\"BoxAnnotation\"}},\"id\":\"c44d6832-a818-414c-af11-190120d77614\",\"type\":\"BoxZoomTool\"}],\"root_ids\":[\"04ea5d77-84dc-4791-a7cd-386e447adf19\"]},\"title\":\"Bokeh Application\",\"version\":\"0.12.13\"}};\n",
       "  var render_items = [{\"docid\":\"5450f8ea-66a9-4cc1-90f7-3278519c7641\",\"elementid\":\"cb9f59fb-f7c0-467f-bd96-814df249843d\",\"modelid\":\"04ea5d77-84dc-4791-a7cd-386e447adf19\"}];\n",
       "  root.Bokeh.embed.embed_items_notebook(docs_json, render_items);\n",
       "\n",
       "  }\n",
       "  if (root.Bokeh !== undefined) {\n",
       "    embed_document(root);\n",
       "  } else {\n",
       "    var attempts = 0;\n",
       "    var timer = setInterval(function(root) {\n",
       "      if (root.Bokeh !== undefined) {\n",
       "        embed_document(root);\n",
       "        clearInterval(timer);\n",
       "      }\n",
       "      attempts++;\n",
       "      if (attempts > 100) {\n",
       "        console.log(\"Bokeh: ERROR: Unable to run BokehJS code because BokehJS library is missing\")\n",
       "        clearInterval(timer);\n",
       "      }\n",
       "    }, 10, root)\n",
       "  }\n",
       "})(window);"
      ],
      "application/vnd.bokehjs_exec.v0+json": ""
     },
     "metadata": {
      "application/vnd.bokehjs_exec.v0+json": {
       "id": "04ea5d77-84dc-4791-a7cd-386e447adf19"
      }
     },
     "output_type": "display_data"
    }
   ],
   "source": [
    "from bokeh.models import HoverTool\n",
    "\n",
    "\n",
    "output_file('project3.html')\n",
    "\n",
    "# %matplotlib\n",
    "\n",
    "\n",
    "\n",
    "\n",
    "#Graph a is scatter plot for 'India-price'\n",
    "hover = HoverTool(tooltips=[\n",
    "    (\"Price Level \", \"@x\"),\n",
    "    (\"Quantity \", \"@y\"),\n",
    "        (\"Country\",\"India\")\n",
    "\n",
    "])\n",
    "a = figure(plot_width=400, plot_height=400, tools=[hover],\n",
    "           title=\"India - Price\")\n",
    "source = ColumnDataSource(data=dict(\n",
    "    x=list1,\n",
    "    y=list2,\n",
    "))\n",
    "\n",
    "a.circle('x', 'y', size=7, source=source)\n",
    "a.yaxis.axis_label = \"Quantity\"\n",
    "a.xaxis.axis_label = \"Price Level\"\n",
    "\n",
    "\n",
    "\n",
    "\n",
    "\n",
    "# Graph b is bar plot for 'India-price'\n",
    "\n",
    "b = figure(plot_width=400, plot_height=400,title=\"India - Price\")\n",
    "\n",
    "b.yaxis.axis_label = \"Quantity\"\n",
    "b.xaxis.axis_label = \"Price Level\"\n",
    "b.vbar(x=list1, width=0.5, bottom=0,\n",
    "       top=list2, color=\"blue\")\n",
    "\n",
    "\n",
    "# Graph p is line graph for \"Link name\"\n",
    "\n",
    "Link_raw = data[['Link Name']]\n",
    "Link = Link_raw['Link Name'].value_counts()\n",
    "link_name = list(Link.keys().values)\n",
    "link_value = list(Link.values)\n",
    "dictionary = dict(zip(link_name,link_value))\n",
    "dictionary\n",
    "number  = [1,2,3,4,5,6,7,8,9,10]\n",
    "\n",
    "\n",
    "source = ColumnDataSource(data=dict(\n",
    "    x=link_name,\n",
    "    y=link_value,\n",
    "    z= number,\n",
    "))\n",
    "\n",
    "hover = HoverTool(tooltips=[\n",
    "    (\"Link Name \", \"@x\"),\n",
    "    (\"Link Value \", \"@y\"),\n",
    "    \n",
    "])\n",
    "p = figure(plot_width=400, plot_height=400,tools=[hover],title=\"Link Name count\")\n",
    "\n",
    "# p = figure(x_range = link_name, y_range = link_value)\n",
    "p.line(number, link_value, line_width=2)\n",
    "p.circle('z', 'y', size=10,source = source)\n",
    "p.yaxis.axis_label = \"Quantity\"\n",
    "p.xaxis.axis_label = \"Name Index\"\n",
    "\n",
    "\n",
    "# show(p)\n",
    "\n",
    "\n",
    "# show(column(a,b))\n",
    "show(column(a,b,p))\n",
    "# show(widgetbox(toggle))\n"
   ]
  },
  {
   "cell_type": "code",
   "execution_count": null,
   "metadata": {},
   "outputs": [],
   "source": [
    "\n",
    "\n"
   ]
  },
  {
   "cell_type": "code",
   "execution_count": 19,
   "metadata": {},
   "outputs": [],
   "source": []
  },
  {
   "cell_type": "code",
   "execution_count": null,
   "metadata": {},
   "outputs": [],
   "source": []
  },
  {
   "cell_type": "code",
   "execution_count": 20,
   "metadata": {},
   "outputs": [],
   "source": []
  },
  {
   "cell_type": "code",
   "execution_count": 21,
   "metadata": {},
   "outputs": [],
   "source": []
  },
  {
   "cell_type": "code",
   "execution_count": null,
   "metadata": {},
   "outputs": [],
   "source": []
  },
  {
   "cell_type": "code",
   "execution_count": null,
   "metadata": {},
   "outputs": [],
   "source": []
  },
  {
   "cell_type": "code",
   "execution_count": null,
   "metadata": {},
   "outputs": [],
   "source": [
    "\n",
    "\n"
   ]
  },
  {
   "cell_type": "code",
   "execution_count": null,
   "metadata": {},
   "outputs": [],
   "source": [
    "\n",
    "\n",
    "\n"
   ]
  },
  {
   "cell_type": "code",
   "execution_count": null,
   "metadata": {},
   "outputs": [],
   "source": []
  },
  {
   "cell_type": "code",
   "execution_count": null,
   "metadata": {},
   "outputs": [],
   "source": []
  },
  {
   "cell_type": "code",
   "execution_count": null,
   "metadata": {},
   "outputs": [],
   "source": [
    "\n"
   ]
  },
  {
   "cell_type": "code",
   "execution_count": null,
   "metadata": {},
   "outputs": [],
   "source": []
  },
  {
   "cell_type": "code",
   "execution_count": null,
   "metadata": {},
   "outputs": [],
   "source": []
  },
  {
   "cell_type": "code",
   "execution_count": null,
   "metadata": {},
   "outputs": [],
   "source": []
  },
  {
   "cell_type": "code",
   "execution_count": null,
   "metadata": {},
   "outputs": [],
   "source": []
  },
  {
   "cell_type": "code",
   "execution_count": null,
   "metadata": {},
   "outputs": [],
   "source": []
  },
  {
   "cell_type": "code",
   "execution_count": null,
   "metadata": {},
   "outputs": [],
   "source": []
  }
 ],
 "metadata": {
  "kernelspec": {
   "display_name": "Python 3",
   "language": "python",
   "name": "python3"
  },
  "language_info": {
   "codemirror_mode": {
    "name": "ipython",
    "version": 3
   },
   "file_extension": ".py",
   "mimetype": "text/x-python",
   "name": "python",
   "nbconvert_exporter": "python",
   "pygments_lexer": "ipython3",
   "version": "3.6.4"
  }
 },
 "nbformat": 4,
 "nbformat_minor": 2
}
